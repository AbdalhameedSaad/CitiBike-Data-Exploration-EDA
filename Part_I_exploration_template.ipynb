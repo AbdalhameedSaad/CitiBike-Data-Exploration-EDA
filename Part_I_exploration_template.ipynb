{
 "cells": [
  {
   "cell_type": "markdown",
   "metadata": {},
   "source": [
    "# Part I - Citi Bike Data Exploration \n",
    "## by Abdalhameed Saad\n",
    "\n",
    "## Introduction\n",
    "Citi Bike is New York City’s bike share system, and the largest in the nation. Citi Bike launched in May 2013 and has become an essential part of transportation network. They make commute fun, efficient and affordable – not to mention healthy and good for the environment.\n",
    "\n",
    "Where do Citi Bikers ride? When do they ride? How far do they go? Which stations are most popular? What days of the week are most rides taken on? Discovering the answers to these questions and more.\n",
    "\n",
    "#### Content \n",
    "\n",
    "\n",
    "Trip duration\n",
    "\n",
    "\n",
    "Start time\n",
    "\n",
    "\n",
    "Stop time\n",
    "\n",
    "\n",
    "Start station id\n",
    "\n",
    "\n",
    "Start station name\n",
    "\n",
    "\n",
    "Start station latitude\n",
    "\n",
    "\n",
    "Start station longitude\n",
    "\n",
    "\n",
    "End station id\n",
    "\n",
    "\n",
    "End station name\n",
    "\n",
    "\n",
    "End station latitude\n",
    "\n",
    "\n",
    "End station longitude\n",
    "\n",
    "\n",
    "Bikeid\n",
    "\n",
    "\n",
    "Birth year\n",
    "\n",
    "\n",
    "User type - (Customer = 24-hour pass or 3-day pass user; Subscriber = Annual Member)\n",
    "\n",
    "\n",
    "Gender - (Zero=unknown; 1=male; 2=female)\n",
    "\n",
    "\n",
    "## Preliminary Wrangling\n"
   ]
  },
  {
   "cell_type": "markdown",
   "metadata": {
    "papermill": {
     "duration": 0.060904,
     "end_time": "2021-03-23T10:40:20.925375",
     "exception": false,
     "start_time": "2021-03-23T10:40:20.864471",
     "status": "completed"
    },
    "tags": []
   },
   "source": [
    "# importing libraries"
   ]
  },
  {
   "cell_type": "code",
   "execution_count": 3,
   "metadata": {},
   "outputs": [],
   "source": [
    "# import all packages and set plots to be embedded inline\n",
    "import numpy as np\n",
    "import pandas as pd\n",
    "import matplotlib.pyplot as plt\n",
    "import seaborn as sb\n",
    "import pandas as pd\n",
    "import zipfile\n",
    "import requests\n",
    "import io\n",
    "%matplotlib inline"
   ]
  },
  {
   "cell_type": "markdown",
   "metadata": {
    "papermill": {
     "duration": 0.058978,
     "end_time": "2021-03-23T10:40:21.177278",
     "exception": false,
     "start_time": "2021-03-23T10:40:21.118300",
     "status": "completed"
    },
    "tags": []
   },
   "source": [
    "# Gatharing"
   ]
  },
  {
   "cell_type": "code",
   "execution_count": 2,
   "metadata": {},
   "outputs": [],
   "source": [
    "zf1 = zipfile.ZipFile('202001-citibike-tripdata.csv.zip') \n",
    "zf2 = zipfile.ZipFile('202002-citibike-tripdata.csv.zip') \n",
    "zf3 = zipfile.ZipFile('202003-citibike-tripdata.csv.zip') \n",
    "zf4 = zipfile.ZipFile('202004-citibike-tripdata.csv.zip') \n",
    "df1 = pd.read_csv(zf1.open('202001-citibike-tripdata.csv'))\n",
    "df2 = pd.read_csv(zf2.open('202002-citibike-tripdata.csv'))\n",
    "df3 = pd.read_csv(zf3.open('202003-citibike-tripdata.csv'))\n",
    "df4 = pd.read_csv(zf4.open('202004-citibike-tripdata.csv'))"
   ]
  },
  {
   "cell_type": "markdown",
   "metadata": {},
   "source": [
    "> the next two cells is for downloading the files directly using requests "
   ]
  },
  {
   "cell_type": "code",
   "execution_count": 122,
   "metadata": {},
   "outputs": [],
   "source": [
    "#def get_data(month):\n",
    "#    re = requests.get(f'https://s3.amazonaws.com/tripdata/2020{month}-citibike-tripdata.csv.zip')\n",
    "#    zf = zipfile.ZipFile(io.BytesIO(re.content)) \n",
    "#    csvf = zf.open(f'2020{month}-citibike-tripdata.csv')\n",
    "#    df = pd.read_csv(csvf)\n",
    "#    df.to_csv(f'2020{month}-citibike-tripdata.csv',index= False)"
   ]
  },
  {
   "cell_type": "code",
   "execution_count": 123,
   "metadata": {},
   "outputs": [],
   "source": [
    "#get_data('01')\n",
    "#get_data('02')\n",
    "#get_data('03')\n",
    "#get_data('04')"
   ]
  },
  {
   "cell_type": "markdown",
   "metadata": {
    "papermill": {
     "duration": 0.060373,
     "end_time": "2021-03-23T10:40:23.948081",
     "exception": false,
     "start_time": "2021-03-23T10:40:23.887708",
     "status": "completed"
    },
    "tags": []
   },
   "source": [
    "# Assessing phase 1"
   ]
  },
  {
   "cell_type": "code",
   "execution_count": 125,
   "metadata": {
    "scrolled": true
   },
   "outputs": [
    {
     "data": {
      "text/html": [
       "<div>\n",
       "<style scoped>\n",
       "    .dataframe tbody tr th:only-of-type {\n",
       "        vertical-align: middle;\n",
       "    }\n",
       "\n",
       "    .dataframe tbody tr th {\n",
       "        vertical-align: top;\n",
       "    }\n",
       "\n",
       "    .dataframe thead th {\n",
       "        text-align: right;\n",
       "    }\n",
       "</style>\n",
       "<table border=\"1\" class=\"dataframe\">\n",
       "  <thead>\n",
       "    <tr style=\"text-align: right;\">\n",
       "      <th></th>\n",
       "      <th>611346</th>\n",
       "      <th>1013176</th>\n",
       "      <th>1099071</th>\n",
       "    </tr>\n",
       "  </thead>\n",
       "  <tbody>\n",
       "    <tr>\n",
       "      <th>tripduration</th>\n",
       "      <td>702</td>\n",
       "      <td>955</td>\n",
       "      <td>1089</td>\n",
       "    </tr>\n",
       "    <tr>\n",
       "      <th>starttime</th>\n",
       "      <td>2020-01-15 17:43:41.7420</td>\n",
       "      <td>2020-01-27 08:33:46.7510</td>\n",
       "      <td>2020-01-28 22:07:43.1780</td>\n",
       "    </tr>\n",
       "    <tr>\n",
       "      <th>stoptime</th>\n",
       "      <td>2020-01-15 17:55:24.1580</td>\n",
       "      <td>2020-01-27 08:49:41.8040</td>\n",
       "      <td>2020-01-28 22:25:53.0420</td>\n",
       "    </tr>\n",
       "    <tr>\n",
       "      <th>start station id</th>\n",
       "      <td>3814</td>\n",
       "      <td>3697</td>\n",
       "      <td>3467</td>\n",
       "    </tr>\n",
       "    <tr>\n",
       "      <th>start station name</th>\n",
       "      <td>E 56 St &amp; Madison Ave</td>\n",
       "      <td>W 64 St &amp; Thelonious Monk Circle</td>\n",
       "      <td>W Broadway &amp; Spring St</td>\n",
       "    </tr>\n",
       "    <tr>\n",
       "      <th>start station latitude</th>\n",
       "      <td>40.761573</td>\n",
       "      <td>40.77516</td>\n",
       "      <td>40.724947</td>\n",
       "    </tr>\n",
       "    <tr>\n",
       "      <th>start station longitude</th>\n",
       "      <td>-73.972628</td>\n",
       "      <td>-73.989187</td>\n",
       "      <td>-74.001659</td>\n",
       "    </tr>\n",
       "    <tr>\n",
       "      <th>end station id</th>\n",
       "      <td>3167</td>\n",
       "      <td>3255</td>\n",
       "      <td>523</td>\n",
       "    </tr>\n",
       "    <tr>\n",
       "      <th>end station name</th>\n",
       "      <td>Amsterdam Ave &amp; W 73 St</td>\n",
       "      <td>8 Ave &amp; W 31 St</td>\n",
       "      <td>W 38 St &amp; 8 Ave</td>\n",
       "    </tr>\n",
       "    <tr>\n",
       "      <th>end station latitude</th>\n",
       "      <td>40.779668</td>\n",
       "      <td>40.750585</td>\n",
       "      <td>40.754666</td>\n",
       "    </tr>\n",
       "    <tr>\n",
       "      <th>end station longitude</th>\n",
       "      <td>-73.98093</td>\n",
       "      <td>-73.994685</td>\n",
       "      <td>-73.991382</td>\n",
       "    </tr>\n",
       "    <tr>\n",
       "      <th>bikeid</th>\n",
       "      <td>34184</td>\n",
       "      <td>41998</td>\n",
       "      <td>32347</td>\n",
       "    </tr>\n",
       "    <tr>\n",
       "      <th>usertype</th>\n",
       "      <td>Subscriber</td>\n",
       "      <td>Subscriber</td>\n",
       "      <td>Subscriber</td>\n",
       "    </tr>\n",
       "    <tr>\n",
       "      <th>birth year</th>\n",
       "      <td>1984</td>\n",
       "      <td>1980</td>\n",
       "      <td>1975</td>\n",
       "    </tr>\n",
       "    <tr>\n",
       "      <th>gender</th>\n",
       "      <td>1</td>\n",
       "      <td>1</td>\n",
       "      <td>1</td>\n",
       "    </tr>\n",
       "  </tbody>\n",
       "</table>\n",
       "</div>"
      ],
      "text/plain": [
       "                                          611346   \\\n",
       "tripduration                                  702   \n",
       "starttime                2020-01-15 17:43:41.7420   \n",
       "stoptime                 2020-01-15 17:55:24.1580   \n",
       "start station id                             3814   \n",
       "start station name          E 56 St & Madison Ave   \n",
       "start station latitude                  40.761573   \n",
       "start station longitude                -73.972628   \n",
       "end station id                               3167   \n",
       "end station name          Amsterdam Ave & W 73 St   \n",
       "end station latitude                    40.779668   \n",
       "end station longitude                   -73.98093   \n",
       "bikeid                                      34184   \n",
       "usertype                               Subscriber   \n",
       "birth year                                   1984   \n",
       "gender                                          1   \n",
       "\n",
       "                                                  1013176  \\\n",
       "tripduration                                          955   \n",
       "starttime                        2020-01-27 08:33:46.7510   \n",
       "stoptime                         2020-01-27 08:49:41.8040   \n",
       "start station id                                     3697   \n",
       "start station name       W 64 St & Thelonious Monk Circle   \n",
       "start station latitude                           40.77516   \n",
       "start station longitude                        -73.989187   \n",
       "end station id                                       3255   \n",
       "end station name                          8 Ave & W 31 St   \n",
       "end station latitude                            40.750585   \n",
       "end station longitude                          -73.994685   \n",
       "bikeid                                              41998   \n",
       "usertype                                       Subscriber   \n",
       "birth year                                           1980   \n",
       "gender                                                  1   \n",
       "\n",
       "                                          1099071  \n",
       "tripduration                                 1089  \n",
       "starttime                2020-01-28 22:07:43.1780  \n",
       "stoptime                 2020-01-28 22:25:53.0420  \n",
       "start station id                             3467  \n",
       "start station name         W Broadway & Spring St  \n",
       "start station latitude                  40.724947  \n",
       "start station longitude                -74.001659  \n",
       "end station id                                523  \n",
       "end station name                  W 38 St & 8 Ave  \n",
       "end station latitude                    40.754666  \n",
       "end station longitude                  -73.991382  \n",
       "bikeid                                      32347  \n",
       "usertype                               Subscriber  \n",
       "birth year                                   1975  \n",
       "gender                                          1  "
      ]
     },
     "execution_count": 125,
     "metadata": {},
     "output_type": "execute_result"
    }
   ],
   "source": [
    "df1.sample(3).T"
   ]
  },
  {
   "cell_type": "code",
   "execution_count": 126,
   "metadata": {},
   "outputs": [
    {
     "data": {
      "text/html": [
       "<div>\n",
       "<style scoped>\n",
       "    .dataframe tbody tr th:only-of-type {\n",
       "        vertical-align: middle;\n",
       "    }\n",
       "\n",
       "    .dataframe tbody tr th {\n",
       "        vertical-align: top;\n",
       "    }\n",
       "\n",
       "    .dataframe thead th {\n",
       "        text-align: right;\n",
       "    }\n",
       "</style>\n",
       "<table border=\"1\" class=\"dataframe\">\n",
       "  <thead>\n",
       "    <tr style=\"text-align: right;\">\n",
       "      <th></th>\n",
       "      <th>841692</th>\n",
       "      <th>127269</th>\n",
       "      <th>1028756</th>\n",
       "    </tr>\n",
       "  </thead>\n",
       "  <tbody>\n",
       "    <tr>\n",
       "      <th>tripduration</th>\n",
       "      <td>252</td>\n",
       "      <td>805</td>\n",
       "      <td>923</td>\n",
       "    </tr>\n",
       "    <tr>\n",
       "      <th>starttime</th>\n",
       "      <td>2020-02-22 22:11:06.8210</td>\n",
       "      <td>2020-02-04 08:46:53.0780</td>\n",
       "      <td>2020-02-26 21:33:46.3430</td>\n",
       "    </tr>\n",
       "    <tr>\n",
       "      <th>stoptime</th>\n",
       "      <td>2020-02-22 22:15:19.0970</td>\n",
       "      <td>2020-02-04 09:00:18.9640</td>\n",
       "      <td>2020-02-26 21:49:09.5360</td>\n",
       "    </tr>\n",
       "    <tr>\n",
       "      <th>start station id</th>\n",
       "      <td>308</td>\n",
       "      <td>359</td>\n",
       "      <td>461</td>\n",
       "    </tr>\n",
       "    <tr>\n",
       "      <th>start station name</th>\n",
       "      <td>St James Pl &amp; Oliver St</td>\n",
       "      <td>E 47 St &amp; Park Ave</td>\n",
       "      <td>E 20 St &amp; 2 Ave</td>\n",
       "    </tr>\n",
       "    <tr>\n",
       "      <th>start station latitude</th>\n",
       "      <td>40.713079</td>\n",
       "      <td>40.755103</td>\n",
       "      <td>40.735877</td>\n",
       "    </tr>\n",
       "    <tr>\n",
       "      <th>start station longitude</th>\n",
       "      <td>-73.998512</td>\n",
       "      <td>-73.974987</td>\n",
       "      <td>-73.98205</td>\n",
       "    </tr>\n",
       "    <tr>\n",
       "      <th>end station id</th>\n",
       "      <td>224</td>\n",
       "      <td>3463</td>\n",
       "      <td>342</td>\n",
       "    </tr>\n",
       "    <tr>\n",
       "      <th>end station name</th>\n",
       "      <td>Spruce St &amp; Nassau St</td>\n",
       "      <td>E 16 St &amp; Irving Pl</td>\n",
       "      <td>Columbia St &amp; Rivington St</td>\n",
       "    </tr>\n",
       "    <tr>\n",
       "      <th>end station latitude</th>\n",
       "      <td>40.711464</td>\n",
       "      <td>40.735367</td>\n",
       "      <td>40.7174</td>\n",
       "    </tr>\n",
       "    <tr>\n",
       "      <th>end station longitude</th>\n",
       "      <td>-74.005524</td>\n",
       "      <td>-73.987974</td>\n",
       "      <td>-73.980166</td>\n",
       "    </tr>\n",
       "    <tr>\n",
       "      <th>bikeid</th>\n",
       "      <td>38967</td>\n",
       "      <td>17601</td>\n",
       "      <td>39644</td>\n",
       "    </tr>\n",
       "    <tr>\n",
       "      <th>usertype</th>\n",
       "      <td>Subscriber</td>\n",
       "      <td>Subscriber</td>\n",
       "      <td>Subscriber</td>\n",
       "    </tr>\n",
       "    <tr>\n",
       "      <th>birth year</th>\n",
       "      <td>1969</td>\n",
       "      <td>1973</td>\n",
       "      <td>1961</td>\n",
       "    </tr>\n",
       "    <tr>\n",
       "      <th>gender</th>\n",
       "      <td>0</td>\n",
       "      <td>1</td>\n",
       "      <td>1</td>\n",
       "    </tr>\n",
       "  </tbody>\n",
       "</table>\n",
       "</div>"
      ],
      "text/plain": [
       "                                          841692                    127269   \\\n",
       "tripduration                                  252                       805   \n",
       "starttime                2020-02-22 22:11:06.8210  2020-02-04 08:46:53.0780   \n",
       "stoptime                 2020-02-22 22:15:19.0970  2020-02-04 09:00:18.9640   \n",
       "start station id                              308                       359   \n",
       "start station name        St James Pl & Oliver St        E 47 St & Park Ave   \n",
       "start station latitude                  40.713079                 40.755103   \n",
       "start station longitude                -73.998512                -73.974987   \n",
       "end station id                                224                      3463   \n",
       "end station name            Spruce St & Nassau St       E 16 St & Irving Pl   \n",
       "end station latitude                    40.711464                 40.735367   \n",
       "end station longitude                  -74.005524                -73.987974   \n",
       "bikeid                                      38967                     17601   \n",
       "usertype                               Subscriber                Subscriber   \n",
       "birth year                                   1969                      1973   \n",
       "gender                                          0                         1   \n",
       "\n",
       "                                            1028756  \n",
       "tripduration                                    923  \n",
       "starttime                  2020-02-26 21:33:46.3430  \n",
       "stoptime                   2020-02-26 21:49:09.5360  \n",
       "start station id                                461  \n",
       "start station name                  E 20 St & 2 Ave  \n",
       "start station latitude                    40.735877  \n",
       "start station longitude                   -73.98205  \n",
       "end station id                                  342  \n",
       "end station name         Columbia St & Rivington St  \n",
       "end station latitude                        40.7174  \n",
       "end station longitude                    -73.980166  \n",
       "bikeid                                        39644  \n",
       "usertype                                 Subscriber  \n",
       "birth year                                     1961  \n",
       "gender                                            1  "
      ]
     },
     "execution_count": 126,
     "metadata": {},
     "output_type": "execute_result"
    }
   ],
   "source": [
    "df2.sample(3).T"
   ]
  },
  {
   "cell_type": "code",
   "execution_count": 127,
   "metadata": {
    "scrolled": true
   },
   "outputs": [
    {
     "data": {
      "text/html": [
       "<div>\n",
       "<style scoped>\n",
       "    .dataframe tbody tr th:only-of-type {\n",
       "        vertical-align: middle;\n",
       "    }\n",
       "\n",
       "    .dataframe tbody tr th {\n",
       "        vertical-align: top;\n",
       "    }\n",
       "\n",
       "    .dataframe thead th {\n",
       "        text-align: right;\n",
       "    }\n",
       "</style>\n",
       "<table border=\"1\" class=\"dataframe\">\n",
       "  <thead>\n",
       "    <tr style=\"text-align: right;\">\n",
       "      <th></th>\n",
       "      <th>871081</th>\n",
       "      <th>903699</th>\n",
       "      <th>922540</th>\n",
       "    </tr>\n",
       "  </thead>\n",
       "  <tbody>\n",
       "    <tr>\n",
       "      <th>tripduration</th>\n",
       "      <td>1932</td>\n",
       "      <td>98</td>\n",
       "      <td>1156</td>\n",
       "    </tr>\n",
       "    <tr>\n",
       "      <th>starttime</th>\n",
       "      <td>2020-03-20 17:21:48.4800</td>\n",
       "      <td>2020-03-21 16:32:17.9610</td>\n",
       "      <td>2020-03-22 14:22:28.9310</td>\n",
       "    </tr>\n",
       "    <tr>\n",
       "      <th>stoptime</th>\n",
       "      <td>2020-03-20 17:54:01.0250</td>\n",
       "      <td>2020-03-21 16:33:56.9480</td>\n",
       "      <td>2020-03-22 14:41:45.8680</td>\n",
       "    </tr>\n",
       "    <tr>\n",
       "      <th>start station id</th>\n",
       "      <td>3870</td>\n",
       "      <td>3170</td>\n",
       "      <td>250</td>\n",
       "    </tr>\n",
       "    <tr>\n",
       "      <th>start station name</th>\n",
       "      <td>Melrose St &amp; Broadway</td>\n",
       "      <td>W 84 St &amp; Columbus Ave</td>\n",
       "      <td>Lafayette St &amp; Jersey St</td>\n",
       "    </tr>\n",
       "    <tr>\n",
       "      <th>start station latitude</th>\n",
       "      <td>40.697481</td>\n",
       "      <td>40.785</td>\n",
       "      <td>40.724561</td>\n",
       "    </tr>\n",
       "    <tr>\n",
       "      <th>start station longitude</th>\n",
       "      <td>-73.935877</td>\n",
       "      <td>-73.972834</td>\n",
       "      <td>-73.995653</td>\n",
       "    </tr>\n",
       "    <tr>\n",
       "      <th>end station id</th>\n",
       "      <td>3064</td>\n",
       "      <td>3168</td>\n",
       "      <td>3785</td>\n",
       "    </tr>\n",
       "    <tr>\n",
       "      <th>end station name</th>\n",
       "      <td>Myrtle Ave &amp; Lewis Ave</td>\n",
       "      <td>Central Park West &amp; W 85 St</td>\n",
       "      <td>W 42 St &amp; 6 Ave</td>\n",
       "    </tr>\n",
       "    <tr>\n",
       "      <th>end station latitude</th>\n",
       "      <td>40.69682</td>\n",
       "      <td>40.784727</td>\n",
       "      <td>40.75492</td>\n",
       "    </tr>\n",
       "    <tr>\n",
       "      <th>end station longitude</th>\n",
       "      <td>-73.937569</td>\n",
       "      <td>-73.969617</td>\n",
       "      <td>-73.98455</td>\n",
       "    </tr>\n",
       "    <tr>\n",
       "      <th>bikeid</th>\n",
       "      <td>31850</td>\n",
       "      <td>32787</td>\n",
       "      <td>33825</td>\n",
       "    </tr>\n",
       "    <tr>\n",
       "      <th>usertype</th>\n",
       "      <td>Customer</td>\n",
       "      <td>Subscriber</td>\n",
       "      <td>Subscriber</td>\n",
       "    </tr>\n",
       "    <tr>\n",
       "      <th>birth year</th>\n",
       "      <td>1969</td>\n",
       "      <td>1989</td>\n",
       "      <td>1982</td>\n",
       "    </tr>\n",
       "    <tr>\n",
       "      <th>gender</th>\n",
       "      <td>0</td>\n",
       "      <td>1</td>\n",
       "      <td>1</td>\n",
       "    </tr>\n",
       "  </tbody>\n",
       "</table>\n",
       "</div>"
      ],
      "text/plain": [
       "                                           871081  \\\n",
       "tripduration                                 1932   \n",
       "starttime                2020-03-20 17:21:48.4800   \n",
       "stoptime                 2020-03-20 17:54:01.0250   \n",
       "start station id                             3870   \n",
       "start station name          Melrose St & Broadway   \n",
       "start station latitude                  40.697481   \n",
       "start station longitude                -73.935877   \n",
       "end station id                               3064   \n",
       "end station name           Myrtle Ave & Lewis Ave   \n",
       "end station latitude                     40.69682   \n",
       "end station longitude                  -73.937569   \n",
       "bikeid                                      31850   \n",
       "usertype                                 Customer   \n",
       "birth year                                   1969   \n",
       "gender                                          0   \n",
       "\n",
       "                                              903699                    922540  \n",
       "tripduration                                      98                      1156  \n",
       "starttime                   2020-03-21 16:32:17.9610  2020-03-22 14:22:28.9310  \n",
       "stoptime                    2020-03-21 16:33:56.9480  2020-03-22 14:41:45.8680  \n",
       "start station id                                3170                       250  \n",
       "start station name            W 84 St & Columbus Ave  Lafayette St & Jersey St  \n",
       "start station latitude                        40.785                 40.724561  \n",
       "start station longitude                   -73.972834                -73.995653  \n",
       "end station id                                  3168                      3785  \n",
       "end station name         Central Park West & W 85 St           W 42 St & 6 Ave  \n",
       "end station latitude                       40.784727                  40.75492  \n",
       "end station longitude                     -73.969617                 -73.98455  \n",
       "bikeid                                         32787                     33825  \n",
       "usertype                                  Subscriber                Subscriber  \n",
       "birth year                                      1989                      1982  \n",
       "gender                                             1                         1  "
      ]
     },
     "execution_count": 127,
     "metadata": {},
     "output_type": "execute_result"
    }
   ],
   "source": [
    "df3.sample(3).T"
   ]
  },
  {
   "cell_type": "code",
   "execution_count": 128,
   "metadata": {
    "scrolled": false
   },
   "outputs": [
    {
     "data": {
      "text/html": [
       "<div>\n",
       "<style scoped>\n",
       "    .dataframe tbody tr th:only-of-type {\n",
       "        vertical-align: middle;\n",
       "    }\n",
       "\n",
       "    .dataframe tbody tr th {\n",
       "        vertical-align: top;\n",
       "    }\n",
       "\n",
       "    .dataframe thead th {\n",
       "        text-align: right;\n",
       "    }\n",
       "</style>\n",
       "<table border=\"1\" class=\"dataframe\">\n",
       "  <thead>\n",
       "    <tr style=\"text-align: right;\">\n",
       "      <th></th>\n",
       "      <th>397281</th>\n",
       "      <th>132633</th>\n",
       "      <th>425022</th>\n",
       "    </tr>\n",
       "  </thead>\n",
       "  <tbody>\n",
       "    <tr>\n",
       "      <th>tripduration</th>\n",
       "      <td>2224</td>\n",
       "      <td>218</td>\n",
       "      <td>3431</td>\n",
       "    </tr>\n",
       "    <tr>\n",
       "      <th>starttime</th>\n",
       "      <td>2020-04-19 14:12:12.6310</td>\n",
       "      <td>2020-04-07 09:15:17.7960</td>\n",
       "      <td>2020-04-19 21:05:21.7240</td>\n",
       "    </tr>\n",
       "    <tr>\n",
       "      <th>stoptime</th>\n",
       "      <td>2020-04-19 14:49:17.2000</td>\n",
       "      <td>2020-04-07 09:18:55.8590</td>\n",
       "      <td>2020-04-19 22:02:33.6840</td>\n",
       "    </tr>\n",
       "    <tr>\n",
       "      <th>start station id</th>\n",
       "      <td>3134</td>\n",
       "      <td>450</td>\n",
       "      <td>439</td>\n",
       "    </tr>\n",
       "    <tr>\n",
       "      <th>start station name</th>\n",
       "      <td>3 Ave &amp; E 62 St</td>\n",
       "      <td>W 49 St &amp; 8 Ave</td>\n",
       "      <td>E 4 St &amp; 2 Ave</td>\n",
       "    </tr>\n",
       "    <tr>\n",
       "      <th>start station latitude</th>\n",
       "      <td>40.763126</td>\n",
       "      <td>40.762272</td>\n",
       "      <td>40.726281</td>\n",
       "    </tr>\n",
       "    <tr>\n",
       "      <th>start station longitude</th>\n",
       "      <td>-73.965269</td>\n",
       "      <td>-73.987882</td>\n",
       "      <td>-73.98978</td>\n",
       "    </tr>\n",
       "    <tr>\n",
       "      <th>end station id</th>\n",
       "      <td>3528</td>\n",
       "      <td>477</td>\n",
       "      <td>530</td>\n",
       "    </tr>\n",
       "    <tr>\n",
       "      <th>end station name</th>\n",
       "      <td>Steinway St &amp; 23 Ave</td>\n",
       "      <td>W 41 St &amp; 8 Ave</td>\n",
       "      <td>11 Ave &amp; W 59 St</td>\n",
       "    </tr>\n",
       "    <tr>\n",
       "      <th>end station latitude</th>\n",
       "      <td>40.771394</td>\n",
       "      <td>40.756405</td>\n",
       "      <td>40.771497</td>\n",
       "    </tr>\n",
       "    <tr>\n",
       "      <th>end station longitude</th>\n",
       "      <td>-73.907744</td>\n",
       "      <td>-73.990026</td>\n",
       "      <td>-73.99046</td>\n",
       "    </tr>\n",
       "    <tr>\n",
       "      <th>bikeid</th>\n",
       "      <td>41782</td>\n",
       "      <td>36911</td>\n",
       "      <td>34181</td>\n",
       "    </tr>\n",
       "    <tr>\n",
       "      <th>usertype</th>\n",
       "      <td>Subscriber</td>\n",
       "      <td>Subscriber</td>\n",
       "      <td>Customer</td>\n",
       "    </tr>\n",
       "    <tr>\n",
       "      <th>birth year</th>\n",
       "      <td>1985</td>\n",
       "      <td>1991</td>\n",
       "      <td>1969</td>\n",
       "    </tr>\n",
       "    <tr>\n",
       "      <th>gender</th>\n",
       "      <td>2</td>\n",
       "      <td>1</td>\n",
       "      <td>0</td>\n",
       "    </tr>\n",
       "  </tbody>\n",
       "</table>\n",
       "</div>"
      ],
      "text/plain": [
       "                                           397281                    132633  \\\n",
       "tripduration                                 2224                       218   \n",
       "starttime                2020-04-19 14:12:12.6310  2020-04-07 09:15:17.7960   \n",
       "stoptime                 2020-04-19 14:49:17.2000  2020-04-07 09:18:55.8590   \n",
       "start station id                             3134                       450   \n",
       "start station name                3 Ave & E 62 St           W 49 St & 8 Ave   \n",
       "start station latitude                  40.763126                 40.762272   \n",
       "start station longitude                -73.965269                -73.987882   \n",
       "end station id                               3528                       477   \n",
       "end station name             Steinway St & 23 Ave           W 41 St & 8 Ave   \n",
       "end station latitude                    40.771394                 40.756405   \n",
       "end station longitude                  -73.907744                -73.990026   \n",
       "bikeid                                      41782                     36911   \n",
       "usertype                               Subscriber                Subscriber   \n",
       "birth year                                   1985                      1991   \n",
       "gender                                          2                         1   \n",
       "\n",
       "                                           425022  \n",
       "tripduration                                 3431  \n",
       "starttime                2020-04-19 21:05:21.7240  \n",
       "stoptime                 2020-04-19 22:02:33.6840  \n",
       "start station id                              439  \n",
       "start station name                 E 4 St & 2 Ave  \n",
       "start station latitude                  40.726281  \n",
       "start station longitude                 -73.98978  \n",
       "end station id                                530  \n",
       "end station name                 11 Ave & W 59 St  \n",
       "end station latitude                    40.771497  \n",
       "end station longitude                   -73.99046  \n",
       "bikeid                                      34181  \n",
       "usertype                                 Customer  \n",
       "birth year                                   1969  \n",
       "gender                                          0  "
      ]
     },
     "execution_count": 128,
     "metadata": {},
     "output_type": "execute_result"
    }
   ],
   "source": [
    "df4.sample(3).T"
   ]
  },
  {
   "cell_type": "code",
   "execution_count": 3,
   "metadata": {},
   "outputs": [],
   "source": [
    "#make copy of the three dataframe\n",
    "df1_clean =df1.copy()\n",
    "df2_clean =df2.copy()\n",
    "df3_clean =df3.copy()\n",
    "df4_clean =df4.copy()"
   ]
  },
  {
   "cell_type": "markdown",
   "metadata": {},
   "source": [
    "each dataframe represents one month so I added the month column for each data frame to make it easier when compin it into one \n",
    "dataframe"
   ]
  },
  {
   "cell_type": "code",
   "execution_count": 4,
   "metadata": {},
   "outputs": [],
   "source": [
    "#create month table for each dataframe\n",
    "df1_clean['month'] = 'Jan'\n",
    "df2_clean['month'] = 'Feb'\n",
    "df3_clean['month'] = 'Mar'\n",
    "df4_clean['month'] = 'Apr'"
   ]
  },
  {
   "cell_type": "code",
   "execution_count": 5,
   "metadata": {
    "scrolled": true
   },
   "outputs": [
    {
     "data": {
      "text/html": [
       "<div>\n",
       "<style scoped>\n",
       "    .dataframe tbody tr th:only-of-type {\n",
       "        vertical-align: middle;\n",
       "    }\n",
       "\n",
       "    .dataframe tbody tr th {\n",
       "        vertical-align: top;\n",
       "    }\n",
       "\n",
       "    .dataframe thead th {\n",
       "        text-align: right;\n",
       "    }\n",
       "</style>\n",
       "<table border=\"1\" class=\"dataframe\">\n",
       "  <thead>\n",
       "    <tr style=\"text-align: right;\">\n",
       "      <th></th>\n",
       "      <th>355487</th>\n",
       "      <th>771117</th>\n",
       "    </tr>\n",
       "  </thead>\n",
       "  <tbody>\n",
       "    <tr>\n",
       "      <th>tripduration</th>\n",
       "      <td>1079</td>\n",
       "      <td>465</td>\n",
       "    </tr>\n",
       "    <tr>\n",
       "      <th>starttime</th>\n",
       "      <td>2020-01-10 17:45:40.7970</td>\n",
       "      <td>2020-01-21 05:25:23.1590</td>\n",
       "    </tr>\n",
       "    <tr>\n",
       "      <th>stoptime</th>\n",
       "      <td>2020-01-10 18:03:40.0920</td>\n",
       "      <td>2020-01-21 05:33:08.9040</td>\n",
       "    </tr>\n",
       "    <tr>\n",
       "      <th>start station id</th>\n",
       "      <td>402</td>\n",
       "      <td>379</td>\n",
       "    </tr>\n",
       "    <tr>\n",
       "      <th>start station name</th>\n",
       "      <td>Broadway &amp; E 22 St</td>\n",
       "      <td>W 31 St &amp; 7 Ave</td>\n",
       "    </tr>\n",
       "    <tr>\n",
       "      <th>start station latitude</th>\n",
       "      <td>40.740343</td>\n",
       "      <td>40.749156</td>\n",
       "    </tr>\n",
       "    <tr>\n",
       "      <th>start station longitude</th>\n",
       "      <td>-73.989551</td>\n",
       "      <td>-73.9916</td>\n",
       "    </tr>\n",
       "    <tr>\n",
       "      <th>end station id</th>\n",
       "      <td>447</td>\n",
       "      <td>536</td>\n",
       "    </tr>\n",
       "    <tr>\n",
       "      <th>end station name</th>\n",
       "      <td>8 Ave &amp; W 52 St</td>\n",
       "      <td>1 Ave &amp; E 30 St</td>\n",
       "    </tr>\n",
       "    <tr>\n",
       "      <th>end station latitude</th>\n",
       "      <td>40.763707</td>\n",
       "      <td>40.741444</td>\n",
       "    </tr>\n",
       "    <tr>\n",
       "      <th>end station longitude</th>\n",
       "      <td>-73.985162</td>\n",
       "      <td>-73.975361</td>\n",
       "    </tr>\n",
       "    <tr>\n",
       "      <th>bikeid</th>\n",
       "      <td>29360</td>\n",
       "      <td>32110</td>\n",
       "    </tr>\n",
       "    <tr>\n",
       "      <th>usertype</th>\n",
       "      <td>Subscriber</td>\n",
       "      <td>Subscriber</td>\n",
       "    </tr>\n",
       "    <tr>\n",
       "      <th>birth year</th>\n",
       "      <td>1982</td>\n",
       "      <td>1987</td>\n",
       "    </tr>\n",
       "    <tr>\n",
       "      <th>gender</th>\n",
       "      <td>1</td>\n",
       "      <td>1</td>\n",
       "    </tr>\n",
       "    <tr>\n",
       "      <th>month</th>\n",
       "      <td>Jan</td>\n",
       "      <td>Jan</td>\n",
       "    </tr>\n",
       "  </tbody>\n",
       "</table>\n",
       "</div>"
      ],
      "text/plain": [
       "                                           355487                    771117\n",
       "tripduration                                 1079                       465\n",
       "starttime                2020-01-10 17:45:40.7970  2020-01-21 05:25:23.1590\n",
       "stoptime                 2020-01-10 18:03:40.0920  2020-01-21 05:33:08.9040\n",
       "start station id                              402                       379\n",
       "start station name             Broadway & E 22 St           W 31 St & 7 Ave\n",
       "start station latitude                  40.740343                 40.749156\n",
       "start station longitude                -73.989551                  -73.9916\n",
       "end station id                                447                       536\n",
       "end station name                  8 Ave & W 52 St           1 Ave & E 30 St\n",
       "end station latitude                    40.763707                 40.741444\n",
       "end station longitude                  -73.985162                -73.975361\n",
       "bikeid                                      29360                     32110\n",
       "usertype                               Subscriber                Subscriber\n",
       "birth year                                   1982                      1987\n",
       "gender                                          1                         1\n",
       "month                                         Jan                       Jan"
      ]
     },
     "execution_count": 5,
     "metadata": {},
     "output_type": "execute_result"
    }
   ],
   "source": [
    "df1_clean.sample(2).T"
   ]
  },
  {
   "cell_type": "markdown",
   "metadata": {},
   "source": [
    "check if all columns in the dataframe are a match"
   ]
  },
  {
   "cell_type": "code",
   "execution_count": 6,
   "metadata": {
    "scrolled": true
   },
   "outputs": [
    {
     "data": {
      "text/plain": [
       "array([ True,  True,  True,  True,  True,  True,  True,  True,  True,\n",
       "        True,  True,  True,  True,  True,  True,  True])"
      ]
     },
     "execution_count": 6,
     "metadata": {},
     "output_type": "execute_result"
    }
   ],
   "source": [
    "df1_clean.columns == df2_clean.columns "
   ]
  },
  {
   "cell_type": "code",
   "execution_count": 7,
   "metadata": {
    "scrolled": true
   },
   "outputs": [
    {
     "data": {
      "text/plain": [
       "array([ True,  True,  True,  True,  True,  True,  True,  True,  True,\n",
       "        True,  True,  True,  True,  True,  True,  True])"
      ]
     },
     "execution_count": 7,
     "metadata": {},
     "output_type": "execute_result"
    }
   ],
   "source": [
    "df3_clean.columns == df4_clean.columns"
   ]
  },
  {
   "cell_type": "code",
   "execution_count": 8,
   "metadata": {
    "scrolled": false
   },
   "outputs": [
    {
     "data": {
      "text/plain": [
       "array([ True,  True,  True,  True,  True,  True,  True,  True,  True,\n",
       "        True,  True,  True,  True,  True,  True,  True])"
      ]
     },
     "execution_count": 8,
     "metadata": {},
     "output_type": "execute_result"
    }
   ],
   "source": [
    "df1_clean.columns == df4_clean.columns"
   ]
  },
  {
   "cell_type": "code",
   "execution_count": 9,
   "metadata": {
    "scrolled": true
   },
   "outputs": [
    {
     "name": "stdout",
     "output_type": "stream",
     "text": [
      "(1240596, 16)\n",
      "(1146830, 16)\n",
      "(1068457, 16)\n",
      "(682762, 16)\n"
     ]
    }
   ],
   "source": [
    "print(df1_clean.shape)\n",
    "print(df2_clean.shape)\n",
    "print(df3_clean.shape)\n",
    "print(df4_clean.shape)"
   ]
  },
  {
   "cell_type": "markdown",
   "metadata": {},
   "source": [
    "all columns are match so it will be ok to combine it al together "
   ]
  },
  {
   "cell_type": "code",
   "execution_count": 10,
   "metadata": {},
   "outputs": [],
   "source": [
    "#use concat function from pandas to  combine all datafreams\n",
    "df = pd.concat([df1_clean, df2_clean,df3_clean,df4_clean])"
   ]
  },
  {
   "cell_type": "code",
   "execution_count": 11,
   "metadata": {
    "scrolled": true
   },
   "outputs": [
    {
     "data": {
      "text/plain": [
       "(4138645, 16)"
      ]
     },
     "execution_count": 11,
     "metadata": {},
     "output_type": "execute_result"
    }
   ],
   "source": [
    "#test \n",
    "df.shape"
   ]
  },
  {
   "cell_type": "code",
   "execution_count": 12,
   "metadata": {},
   "outputs": [],
   "source": [
    "#save the dataframe into citibike_Jan_to_Apr.csv\n",
    "df.to_csv('citibike_Jan_to_Apr.csv',index=False)"
   ]
  },
  {
   "cell_type": "markdown",
   "metadata": {
    "papermill": {
     "duration": 0.087936,
     "end_time": "2021-07-29T14:51:29.785801",
     "exception": false,
     "start_time": "2021-07-29T14:51:29.697865",
     "status": "completed"
    },
    "tags": []
   },
   "source": [
    "## 1) Quality\n",
    " \n",
    "#### \n",
    "- wrong data type\n",
    "- outliers in the tripduration column\n",
    "- replace spaces in the columns names to underscore\n",
    "- unusual birth year value counts for the year 1969\n",
    "- outliers in tripduration column \n",
    "- trip duration should be in minutes not sec\n",
    "- outliers in the people's ages \n",
    "- genders represented by number\n",
    "\n",
    "\n",
    "## 2) tidiness\n",
    "- birth year column should be age to make it easier during  EDA\n",
    "- 2 more variable inside this starttime column (weekday and hour for starting time)"
   ]
  },
  {
   "cell_type": "code",
   "execution_count": 4,
   "metadata": {},
   "outputs": [],
   "source": [
    "df_final = pd.read_csv('citibike_Jan_to_Apr.csv')"
   ]
  },
  {
   "cell_type": "code",
   "execution_count": 5,
   "metadata": {},
   "outputs": [],
   "source": [
    "#make copy for cleaning\n",
    "df_clean = df_final.copy()"
   ]
  },
  {
   "cell_type": "markdown",
   "metadata": {
    "papermill": {
     "duration": 0.060373,
     "end_time": "2021-03-23T10:40:23.948081",
     "exception": false,
     "start_time": "2021-03-23T10:40:23.887708",
     "status": "completed"
    },
    "tags": []
   },
   "source": [
    "# Assessing phase 2"
   ]
  },
  {
   "cell_type": "code",
   "execution_count": 6,
   "metadata": {
    "scrolled": false
   },
   "outputs": [
    {
     "data": {
      "text/html": [
       "<div>\n",
       "<style scoped>\n",
       "    .dataframe tbody tr th:only-of-type {\n",
       "        vertical-align: middle;\n",
       "    }\n",
       "\n",
       "    .dataframe tbody tr th {\n",
       "        vertical-align: top;\n",
       "    }\n",
       "\n",
       "    .dataframe thead th {\n",
       "        text-align: right;\n",
       "    }\n",
       "</style>\n",
       "<table border=\"1\" class=\"dataframe\">\n",
       "  <thead>\n",
       "    <tr style=\"text-align: right;\">\n",
       "      <th></th>\n",
       "      <th>1070579</th>\n",
       "      <th>972046</th>\n",
       "      <th>2628317</th>\n",
       "      <th>1563957</th>\n",
       "      <th>3497436</th>\n",
       "      <th>3611053</th>\n",
       "      <th>3961121</th>\n",
       "      <th>103211</th>\n",
       "      <th>2382075</th>\n",
       "      <th>493890</th>\n",
       "    </tr>\n",
       "  </thead>\n",
       "  <tbody>\n",
       "    <tr>\n",
       "      <th>tripduration</th>\n",
       "      <td>343</td>\n",
       "      <td>270</td>\n",
       "      <td>706</td>\n",
       "      <td>658</td>\n",
       "      <td>1297</td>\n",
       "      <td>603</td>\n",
       "      <td>3137</td>\n",
       "      <td>687</td>\n",
       "      <td>700</td>\n",
       "      <td>625</td>\n",
       "    </tr>\n",
       "    <tr>\n",
       "      <th>starttime</th>\n",
       "      <td>2020-01-28 11:54:39.4260</td>\n",
       "      <td>2020-01-26 09:08:02.7540</td>\n",
       "      <td>2020-03-05 18:01:16.3210</td>\n",
       "      <td>2020-02-09 10:32:26.9220</td>\n",
       "      <td>2020-04-03 10:16:23.0030</td>\n",
       "      <td>2020-04-08 08:27:53.9370</td>\n",
       "      <td>2020-04-23 19:09:57.7780</td>\n",
       "      <td>2020-01-04 13:47:48.0620</td>\n",
       "      <td>2020-02-29 18:12:54.3210</td>\n",
       "      <td>2020-01-13 09:35:58.8130</td>\n",
       "    </tr>\n",
       "    <tr>\n",
       "      <th>stoptime</th>\n",
       "      <td>2020-01-28 12:00:23.0440</td>\n",
       "      <td>2020-01-26 09:12:33.0830</td>\n",
       "      <td>2020-03-05 18:13:03.1720</td>\n",
       "      <td>2020-02-09 10:43:25.7040</td>\n",
       "      <td>2020-04-03 10:38:00.5110</td>\n",
       "      <td>2020-04-08 08:37:57.1080</td>\n",
       "      <td>2020-04-23 20:02:15.2130</td>\n",
       "      <td>2020-01-04 13:59:15.2700</td>\n",
       "      <td>2020-02-29 18:24:34.5490</td>\n",
       "      <td>2020-01-13 09:46:24.3740</td>\n",
       "    </tr>\n",
       "    <tr>\n",
       "      <th>start station id</th>\n",
       "      <td>164</td>\n",
       "      <td>3697</td>\n",
       "      <td>262</td>\n",
       "      <td>3737</td>\n",
       "      <td>3664</td>\n",
       "      <td>3141</td>\n",
       "      <td>3177</td>\n",
       "      <td>387</td>\n",
       "      <td>3383</td>\n",
       "      <td>440</td>\n",
       "    </tr>\n",
       "    <tr>\n",
       "      <th>start station name</th>\n",
       "      <td>E 47 St &amp; 2 Ave</td>\n",
       "      <td>W 64 St &amp; Thelonious Monk Circle</td>\n",
       "      <td>Washington Park</td>\n",
       "      <td>Stanton St &amp; Norfolk St</td>\n",
       "      <td>North Moore St &amp; Greenwich St</td>\n",
       "      <td>1 Ave &amp; E 68 St</td>\n",
       "      <td>W 84 St &amp; Broadway</td>\n",
       "      <td>Centre St &amp; Chambers St</td>\n",
       "      <td>Cathedral Pkwy &amp; Broadway</td>\n",
       "      <td>E 45 St &amp; 3 Ave</td>\n",
       "    </tr>\n",
       "    <tr>\n",
       "      <th>start station latitude</th>\n",
       "      <td>40.753231</td>\n",
       "      <td>40.77516</td>\n",
       "      <td>40.691782</td>\n",
       "      <td>40.720747</td>\n",
       "      <td>40.720195</td>\n",
       "      <td>40.765005</td>\n",
       "      <td>40.786795</td>\n",
       "      <td>40.712733</td>\n",
       "      <td>40.804213</td>\n",
       "      <td>40.752554</td>\n",
       "    </tr>\n",
       "    <tr>\n",
       "      <th>start station longitude</th>\n",
       "      <td>-73.970325</td>\n",
       "      <td>-73.989187</td>\n",
       "      <td>-73.97373</td>\n",
       "      <td>-73.986274</td>\n",
       "      <td>-74.010301</td>\n",
       "      <td>-73.958185</td>\n",
       "      <td>-73.977112</td>\n",
       "      <td>-74.004607</td>\n",
       "      <td>-73.966991</td>\n",
       "      <td>-73.972826</td>\n",
       "    </tr>\n",
       "    <tr>\n",
       "      <th>end station id</th>\n",
       "      <td>484</td>\n",
       "      <td>3175</td>\n",
       "      <td>3055</td>\n",
       "      <td>3263</td>\n",
       "      <td>466</td>\n",
       "      <td>3151</td>\n",
       "      <td>3364</td>\n",
       "      <td>297</td>\n",
       "      <td>3542</td>\n",
       "      <td>486</td>\n",
       "    </tr>\n",
       "    <tr>\n",
       "      <th>end station name</th>\n",
       "      <td>W 44 St &amp; 5 Ave</td>\n",
       "      <td>W 70 St &amp; Amsterdam Ave</td>\n",
       "      <td>Greene Ave &amp; Nostrand Ave</td>\n",
       "      <td>Cooper Square &amp; Astor Pl</td>\n",
       "      <td>W 25 St &amp; 6 Ave</td>\n",
       "      <td>E 81 St &amp; York Ave</td>\n",
       "      <td>Carroll St &amp; 5 Ave</td>\n",
       "      <td>E 15 St &amp; 3 Ave</td>\n",
       "      <td>Amsterdam Ave &amp; W 119 St</td>\n",
       "      <td>Broadway &amp; W 29 St</td>\n",
       "    </tr>\n",
       "    <tr>\n",
       "      <th>end station latitude</th>\n",
       "      <td>40.755003</td>\n",
       "      <td>40.77748</td>\n",
       "      <td>40.688334</td>\n",
       "      <td>40.729515</td>\n",
       "      <td>40.743954</td>\n",
       "      <td>40.772838</td>\n",
       "      <td>40.675162</td>\n",
       "      <td>40.734232</td>\n",
       "      <td>40.808625</td>\n",
       "      <td>40.746201</td>\n",
       "    </tr>\n",
       "    <tr>\n",
       "      <th>end station longitude</th>\n",
       "      <td>-73.980144</td>\n",
       "      <td>-73.982886</td>\n",
       "      <td>-73.950916</td>\n",
       "      <td>-73.990753</td>\n",
       "      <td>-73.991449</td>\n",
       "      <td>-73.949892</td>\n",
       "      <td>-73.981483</td>\n",
       "      <td>-73.986923</td>\n",
       "      <td>-73.959621</td>\n",
       "      <td>-73.988557</td>\n",
       "    </tr>\n",
       "    <tr>\n",
       "      <th>bikeid</th>\n",
       "      <td>31898</td>\n",
       "      <td>32656</td>\n",
       "      <td>40878</td>\n",
       "      <td>15240</td>\n",
       "      <td>14936</td>\n",
       "      <td>42658</td>\n",
       "      <td>41940</td>\n",
       "      <td>40802</td>\n",
       "      <td>31917</td>\n",
       "      <td>33909</td>\n",
       "    </tr>\n",
       "    <tr>\n",
       "      <th>usertype</th>\n",
       "      <td>Subscriber</td>\n",
       "      <td>Subscriber</td>\n",
       "      <td>Subscriber</td>\n",
       "      <td>Customer</td>\n",
       "      <td>Subscriber</td>\n",
       "      <td>Subscriber</td>\n",
       "      <td>Subscriber</td>\n",
       "      <td>Subscriber</td>\n",
       "      <td>Subscriber</td>\n",
       "      <td>Subscriber</td>\n",
       "    </tr>\n",
       "    <tr>\n",
       "      <th>birth year</th>\n",
       "      <td>1974</td>\n",
       "      <td>1959</td>\n",
       "      <td>1964</td>\n",
       "      <td>1974</td>\n",
       "      <td>1987</td>\n",
       "      <td>1977</td>\n",
       "      <td>1961</td>\n",
       "      <td>1954</td>\n",
       "      <td>1997</td>\n",
       "      <td>1976</td>\n",
       "    </tr>\n",
       "    <tr>\n",
       "      <th>gender</th>\n",
       "      <td>1</td>\n",
       "      <td>2</td>\n",
       "      <td>2</td>\n",
       "      <td>2</td>\n",
       "      <td>2</td>\n",
       "      <td>1</td>\n",
       "      <td>1</td>\n",
       "      <td>2</td>\n",
       "      <td>2</td>\n",
       "      <td>1</td>\n",
       "    </tr>\n",
       "    <tr>\n",
       "      <th>month</th>\n",
       "      <td>Jan</td>\n",
       "      <td>Jan</td>\n",
       "      <td>Mar</td>\n",
       "      <td>Feb</td>\n",
       "      <td>Apr</td>\n",
       "      <td>Apr</td>\n",
       "      <td>Apr</td>\n",
       "      <td>Jan</td>\n",
       "      <td>Feb</td>\n",
       "      <td>Jan</td>\n",
       "    </tr>\n",
       "  </tbody>\n",
       "</table>\n",
       "</div>"
      ],
      "text/plain": [
       "                                          1070579  \\\n",
       "tripduration                                  343   \n",
       "starttime                2020-01-28 11:54:39.4260   \n",
       "stoptime                 2020-01-28 12:00:23.0440   \n",
       "start station id                              164   \n",
       "start station name                E 47 St & 2 Ave   \n",
       "start station latitude                  40.753231   \n",
       "start station longitude                -73.970325   \n",
       "end station id                                484   \n",
       "end station name                  W 44 St & 5 Ave   \n",
       "end station latitude                    40.755003   \n",
       "end station longitude                  -73.980144   \n",
       "bikeid                                      31898   \n",
       "usertype                               Subscriber   \n",
       "birth year                                   1974   \n",
       "gender                                          1   \n",
       "month                                         Jan   \n",
       "\n",
       "                                                  972046   \\\n",
       "tripduration                                          270   \n",
       "starttime                        2020-01-26 09:08:02.7540   \n",
       "stoptime                         2020-01-26 09:12:33.0830   \n",
       "start station id                                     3697   \n",
       "start station name       W 64 St & Thelonious Monk Circle   \n",
       "start station latitude                           40.77516   \n",
       "start station longitude                        -73.989187   \n",
       "end station id                                       3175   \n",
       "end station name                  W 70 St & Amsterdam Ave   \n",
       "end station latitude                             40.77748   \n",
       "end station longitude                          -73.982886   \n",
       "bikeid                                              32656   \n",
       "usertype                                       Subscriber   \n",
       "birth year                                           1959   \n",
       "gender                                                  2   \n",
       "month                                                 Jan   \n",
       "\n",
       "                                           2628317                   1563957  \\\n",
       "tripduration                                   706                       658   \n",
       "starttime                 2020-03-05 18:01:16.3210  2020-02-09 10:32:26.9220   \n",
       "stoptime                  2020-03-05 18:13:03.1720  2020-02-09 10:43:25.7040   \n",
       "start station id                               262                      3737   \n",
       "start station name                 Washington Park   Stanton St & Norfolk St   \n",
       "start station latitude                   40.691782                 40.720747   \n",
       "start station longitude                  -73.97373                -73.986274   \n",
       "end station id                                3055                      3263   \n",
       "end station name         Greene Ave & Nostrand Ave  Cooper Square & Astor Pl   \n",
       "end station latitude                     40.688334                 40.729515   \n",
       "end station longitude                   -73.950916                -73.990753   \n",
       "bikeid                                       40878                     15240   \n",
       "usertype                                Subscriber                  Customer   \n",
       "birth year                                    1964                      1974   \n",
       "gender                                           2                         2   \n",
       "month                                          Mar                       Feb   \n",
       "\n",
       "                                               3497436  \\\n",
       "tripduration                                      1297   \n",
       "starttime                     2020-04-03 10:16:23.0030   \n",
       "stoptime                      2020-04-03 10:38:00.5110   \n",
       "start station id                                  3664   \n",
       "start station name       North Moore St & Greenwich St   \n",
       "start station latitude                       40.720195   \n",
       "start station longitude                     -74.010301   \n",
       "end station id                                     466   \n",
       "end station name                       W 25 St & 6 Ave   \n",
       "end station latitude                         40.743954   \n",
       "end station longitude                       -73.991449   \n",
       "bikeid                                           14936   \n",
       "usertype                                    Subscriber   \n",
       "birth year                                        1987   \n",
       "gender                                               2   \n",
       "month                                              Apr   \n",
       "\n",
       "                                          3611053                   3961121  \\\n",
       "tripduration                                  603                      3137   \n",
       "starttime                2020-04-08 08:27:53.9370  2020-04-23 19:09:57.7780   \n",
       "stoptime                 2020-04-08 08:37:57.1080  2020-04-23 20:02:15.2130   \n",
       "start station id                             3141                      3177   \n",
       "start station name                1 Ave & E 68 St        W 84 St & Broadway   \n",
       "start station latitude                  40.765005                 40.786795   \n",
       "start station longitude                -73.958185                -73.977112   \n",
       "end station id                               3151                      3364   \n",
       "end station name               E 81 St & York Ave        Carroll St & 5 Ave   \n",
       "end station latitude                    40.772838                 40.675162   \n",
       "end station longitude                  -73.949892                -73.981483   \n",
       "bikeid                                      42658                     41940   \n",
       "usertype                               Subscriber                Subscriber   \n",
       "birth year                                   1977                      1961   \n",
       "gender                                          1                         1   \n",
       "month                                         Apr                       Apr   \n",
       "\n",
       "                                          103211                     2382075  \\\n",
       "tripduration                                  687                        700   \n",
       "starttime                2020-01-04 13:47:48.0620   2020-02-29 18:12:54.3210   \n",
       "stoptime                 2020-01-04 13:59:15.2700   2020-02-29 18:24:34.5490   \n",
       "start station id                              387                       3383   \n",
       "start station name        Centre St & Chambers St  Cathedral Pkwy & Broadway   \n",
       "start station latitude                  40.712733                  40.804213   \n",
       "start station longitude                -74.004607                 -73.966991   \n",
       "end station id                                297                       3542   \n",
       "end station name                  E 15 St & 3 Ave   Amsterdam Ave & W 119 St   \n",
       "end station latitude                    40.734232                  40.808625   \n",
       "end station longitude                  -73.986923                 -73.959621   \n",
       "bikeid                                      40802                      31917   \n",
       "usertype                               Subscriber                 Subscriber   \n",
       "birth year                                   1954                       1997   \n",
       "gender                                          2                          2   \n",
       "month                                         Jan                        Feb   \n",
       "\n",
       "                                          493890   \n",
       "tripduration                                  625  \n",
       "starttime                2020-01-13 09:35:58.8130  \n",
       "stoptime                 2020-01-13 09:46:24.3740  \n",
       "start station id                              440  \n",
       "start station name                E 45 St & 3 Ave  \n",
       "start station latitude                  40.752554  \n",
       "start station longitude                -73.972826  \n",
       "end station id                                486  \n",
       "end station name               Broadway & W 29 St  \n",
       "end station latitude                    40.746201  \n",
       "end station longitude                  -73.988557  \n",
       "bikeid                                      33909  \n",
       "usertype                               Subscriber  \n",
       "birth year                                   1976  \n",
       "gender                                          1  \n",
       "month                                         Jan  "
      ]
     },
     "execution_count": 6,
     "metadata": {},
     "output_type": "execute_result"
    }
   ],
   "source": [
    "df_clean.sample(10).T"
   ]
  },
  {
   "cell_type": "code",
   "execution_count": 7,
   "metadata": {
    "scrolled": false
   },
   "outputs": [
    {
     "name": "stdout",
     "output_type": "stream",
     "text": [
      "<class 'pandas.core.frame.DataFrame'>\n",
      "RangeIndex: 4138645 entries, 0 to 4138644\n",
      "Data columns (total 16 columns):\n",
      " #   Column                   Dtype  \n",
      "---  ------                   -----  \n",
      " 0   tripduration             int64  \n",
      " 1   starttime                object \n",
      " 2   stoptime                 object \n",
      " 3   start station id         int64  \n",
      " 4   start station name       object \n",
      " 5   start station latitude   float64\n",
      " 6   start station longitude  float64\n",
      " 7   end station id           int64  \n",
      " 8   end station name         object \n",
      " 9   end station latitude     float64\n",
      " 10  end station longitude    float64\n",
      " 11  bikeid                   int64  \n",
      " 12  usertype                 object \n",
      " 13  birth year               int64  \n",
      " 14  gender                   int64  \n",
      " 15  month                    object \n",
      "dtypes: float64(4), int64(6), object(6)\n",
      "memory usage: 505.2+ MB\n"
     ]
    }
   ],
   "source": [
    "df_clean.info()"
   ]
  },
  {
   "cell_type": "code",
   "execution_count": 8,
   "metadata": {
    "scrolled": true
   },
   "outputs": [
    {
     "data": {
      "text/html": [
       "<div>\n",
       "<style scoped>\n",
       "    .dataframe tbody tr th:only-of-type {\n",
       "        vertical-align: middle;\n",
       "    }\n",
       "\n",
       "    .dataframe tbody tr th {\n",
       "        vertical-align: top;\n",
       "    }\n",
       "\n",
       "    .dataframe thead th {\n",
       "        text-align: right;\n",
       "    }\n",
       "</style>\n",
       "<table border=\"1\" class=\"dataframe\">\n",
       "  <thead>\n",
       "    <tr style=\"text-align: right;\">\n",
       "      <th></th>\n",
       "      <th>tripduration</th>\n",
       "      <th>start station id</th>\n",
       "      <th>start station latitude</th>\n",
       "      <th>start station longitude</th>\n",
       "      <th>end station id</th>\n",
       "      <th>end station latitude</th>\n",
       "      <th>end station longitude</th>\n",
       "      <th>bikeid</th>\n",
       "      <th>birth year</th>\n",
       "      <th>gender</th>\n",
       "    </tr>\n",
       "  </thead>\n",
       "  <tbody>\n",
       "    <tr>\n",
       "      <th>count</th>\n",
       "      <td>4.138645e+06</td>\n",
       "      <td>4.138645e+06</td>\n",
       "      <td>4.138645e+06</td>\n",
       "      <td>4.138645e+06</td>\n",
       "      <td>4.138645e+06</td>\n",
       "      <td>4.138645e+06</td>\n",
       "      <td>4.138645e+06</td>\n",
       "      <td>4.138645e+06</td>\n",
       "      <td>4.138645e+06</td>\n",
       "      <td>4.138645e+06</td>\n",
       "    </tr>\n",
       "    <tr>\n",
       "      <th>mean</th>\n",
       "      <td>1.020477e+03</td>\n",
       "      <td>1.772133e+03</td>\n",
       "      <td>4.073803e+01</td>\n",
       "      <td>-7.398048e+01</td>\n",
       "      <td>1.763834e+03</td>\n",
       "      <td>4.073772e+01</td>\n",
       "      <td>-7.398071e+01</td>\n",
       "      <td>3.315676e+04</td>\n",
       "      <td>1.979913e+03</td>\n",
       "      <td>1.173552e+00</td>\n",
       "    </tr>\n",
       "    <tr>\n",
       "      <th>std</th>\n",
       "      <td>1.184735e+04</td>\n",
       "      <td>1.508217e+03</td>\n",
       "      <td>3.103014e-02</td>\n",
       "      <td>2.039489e-02</td>\n",
       "      <td>1.508435e+03</td>\n",
       "      <td>3.085769e-02</td>\n",
       "      <td>2.045956e-02</td>\n",
       "      <td>8.156099e+03</td>\n",
       "      <td>1.244258e+01</td>\n",
       "      <td>5.250168e-01</td>\n",
       "    </tr>\n",
       "    <tr>\n",
       "      <th>min</th>\n",
       "      <td>6.100000e+01</td>\n",
       "      <td>7.200000e+01</td>\n",
       "      <td>4.065540e+01</td>\n",
       "      <td>-7.401713e+01</td>\n",
       "      <td>7.200000e+01</td>\n",
       "      <td>4.065540e+01</td>\n",
       "      <td>-7.407126e+01</td>\n",
       "      <td>1.453000e+04</td>\n",
       "      <td>1.885000e+03</td>\n",
       "      <td>0.000000e+00</td>\n",
       "    </tr>\n",
       "    <tr>\n",
       "      <th>25%</th>\n",
       "      <td>3.480000e+02</td>\n",
       "      <td>3.940000e+02</td>\n",
       "      <td>4.071757e+01</td>\n",
       "      <td>-7.399422e+01</td>\n",
       "      <td>3.930000e+02</td>\n",
       "      <td>4.071755e+01</td>\n",
       "      <td>-7.399456e+01</td>\n",
       "      <td>2.878100e+04</td>\n",
       "      <td>1.969000e+03</td>\n",
       "      <td>1.000000e+00</td>\n",
       "    </tr>\n",
       "    <tr>\n",
       "      <th>50%</th>\n",
       "      <td>6.040000e+02</td>\n",
       "      <td>5.230000e+02</td>\n",
       "      <td>4.073902e+01</td>\n",
       "      <td>-7.398369e+01</td>\n",
       "      <td>5.230000e+02</td>\n",
       "      <td>4.073827e+01</td>\n",
       "      <td>-7.398427e+01</td>\n",
       "      <td>3.486300e+04</td>\n",
       "      <td>1.983000e+03</td>\n",
       "      <td>1.000000e+00</td>\n",
       "    </tr>\n",
       "    <tr>\n",
       "      <th>75%</th>\n",
       "      <td>1.105000e+03</td>\n",
       "      <td>3.350000e+03</td>\n",
       "      <td>4.075929e+01</td>\n",
       "      <td>-7.396905e+01</td>\n",
       "      <td>3.350000e+03</td>\n",
       "      <td>4.075840e+01</td>\n",
       "      <td>-7.396962e+01</td>\n",
       "      <td>4.005700e+04</td>\n",
       "      <td>1.990000e+03</td>\n",
       "      <td>1.000000e+00</td>\n",
       "    </tr>\n",
       "    <tr>\n",
       "      <th>max</th>\n",
       "      <td>3.786187e+06</td>\n",
       "      <td>3.992000e+03</td>\n",
       "      <td>4.084284e+01</td>\n",
       "      <td>-7.389795e+01</td>\n",
       "      <td>3.992000e+03</td>\n",
       "      <td>4.084284e+01</td>\n",
       "      <td>-7.389795e+01</td>\n",
       "      <td>4.391200e+04</td>\n",
       "      <td>2.004000e+03</td>\n",
       "      <td>2.000000e+00</td>\n",
       "    </tr>\n",
       "  </tbody>\n",
       "</table>\n",
       "</div>"
      ],
      "text/plain": [
       "       tripduration  start station id  start station latitude  \\\n",
       "count  4.138645e+06      4.138645e+06            4.138645e+06   \n",
       "mean   1.020477e+03      1.772133e+03            4.073803e+01   \n",
       "std    1.184735e+04      1.508217e+03            3.103014e-02   \n",
       "min    6.100000e+01      7.200000e+01            4.065540e+01   \n",
       "25%    3.480000e+02      3.940000e+02            4.071757e+01   \n",
       "50%    6.040000e+02      5.230000e+02            4.073902e+01   \n",
       "75%    1.105000e+03      3.350000e+03            4.075929e+01   \n",
       "max    3.786187e+06      3.992000e+03            4.084284e+01   \n",
       "\n",
       "       start station longitude  end station id  end station latitude  \\\n",
       "count             4.138645e+06    4.138645e+06          4.138645e+06   \n",
       "mean             -7.398048e+01    1.763834e+03          4.073772e+01   \n",
       "std               2.039489e-02    1.508435e+03          3.085769e-02   \n",
       "min              -7.401713e+01    7.200000e+01          4.065540e+01   \n",
       "25%              -7.399422e+01    3.930000e+02          4.071755e+01   \n",
       "50%              -7.398369e+01    5.230000e+02          4.073827e+01   \n",
       "75%              -7.396905e+01    3.350000e+03          4.075840e+01   \n",
       "max              -7.389795e+01    3.992000e+03          4.084284e+01   \n",
       "\n",
       "       end station longitude        bikeid    birth year        gender  \n",
       "count           4.138645e+06  4.138645e+06  4.138645e+06  4.138645e+06  \n",
       "mean           -7.398071e+01  3.315676e+04  1.979913e+03  1.173552e+00  \n",
       "std             2.045956e-02  8.156099e+03  1.244258e+01  5.250168e-01  \n",
       "min            -7.407126e+01  1.453000e+04  1.885000e+03  0.000000e+00  \n",
       "25%            -7.399456e+01  2.878100e+04  1.969000e+03  1.000000e+00  \n",
       "50%            -7.398427e+01  3.486300e+04  1.983000e+03  1.000000e+00  \n",
       "75%            -7.396962e+01  4.005700e+04  1.990000e+03  1.000000e+00  \n",
       "max            -7.389795e+01  4.391200e+04  2.004000e+03  2.000000e+00  "
      ]
     },
     "execution_count": 8,
     "metadata": {},
     "output_type": "execute_result"
    }
   ],
   "source": [
    "df_clean.describe()"
   ]
  },
  {
   "cell_type": "code",
   "execution_count": 9,
   "metadata": {},
   "outputs": [
    {
     "data": {
      "text/plain": [
       "tripduration               0\n",
       "starttime                  0\n",
       "stoptime                   0\n",
       "start station id           0\n",
       "start station name         0\n",
       "start station latitude     0\n",
       "start station longitude    0\n",
       "end station id             0\n",
       "end station name           0\n",
       "end station latitude       0\n",
       "end station longitude      0\n",
       "bikeid                     0\n",
       "usertype                   0\n",
       "birth year                 0\n",
       "gender                     0\n",
       "month                      0\n",
       "dtype: int64"
      ]
     },
     "execution_count": 9,
     "metadata": {},
     "output_type": "execute_result"
    }
   ],
   "source": [
    "df_clean.isnull().sum()"
   ]
  },
  {
   "cell_type": "code",
   "execution_count": 10,
   "metadata": {
    "scrolled": false
   },
   "outputs": [
    {
     "data": {
      "text/html": [
       "<div>\n",
       "<style scoped>\n",
       "    .dataframe tbody tr th:only-of-type {\n",
       "        vertical-align: middle;\n",
       "    }\n",
       "\n",
       "    .dataframe tbody tr th {\n",
       "        vertical-align: top;\n",
       "    }\n",
       "\n",
       "    .dataframe thead th {\n",
       "        text-align: right;\n",
       "    }\n",
       "</style>\n",
       "<table border=\"1\" class=\"dataframe\">\n",
       "  <thead>\n",
       "    <tr style=\"text-align: right;\">\n",
       "      <th></th>\n",
       "      <th>tripduration</th>\n",
       "      <th>starttime</th>\n",
       "      <th>stoptime</th>\n",
       "      <th>start station id</th>\n",
       "      <th>start station name</th>\n",
       "      <th>start station latitude</th>\n",
       "      <th>start station longitude</th>\n",
       "      <th>end station id</th>\n",
       "      <th>end station name</th>\n",
       "      <th>end station latitude</th>\n",
       "      <th>end station longitude</th>\n",
       "      <th>bikeid</th>\n",
       "      <th>usertype</th>\n",
       "      <th>birth year</th>\n",
       "      <th>gender</th>\n",
       "      <th>month</th>\n",
       "    </tr>\n",
       "  </thead>\n",
       "  <tbody>\n",
       "  </tbody>\n",
       "</table>\n",
       "</div>"
      ],
      "text/plain": [
       "Empty DataFrame\n",
       "Columns: [tripduration, starttime, stoptime, start station id, start station name, start station latitude, start station longitude, end station id, end station name, end station latitude, end station longitude, bikeid, usertype, birth year, gender, month]\n",
       "Index: []"
      ]
     },
     "execution_count": 10,
     "metadata": {},
     "output_type": "execute_result"
    }
   ],
   "source": [
    "# delete all rows with totla duration is more than 24 hours\n",
    "indexAge = df_clean[df_clean.tripduration >86400].index\n",
    "df_clean.drop(indexAge , inplace=True)\n",
    "df_clean[df_clean.tripduration >86400]"
   ]
  },
  {
   "cell_type": "code",
   "execution_count": 11,
   "metadata": {},
   "outputs": [],
   "source": [
    "#replace the (-) with an underscore in all columns\n",
    "df_clean.rename(columns=lambda x: x.replace(' ','_'),inplace=True)"
   ]
  },
  {
   "cell_type": "code",
   "execution_count": 12,
   "metadata": {
    "scrolled": true
   },
   "outputs": [
    {
     "data": {
      "text/plain": [
       "Index(['tripduration', 'starttime', 'stoptime', 'start_station_id',\n",
       "       'start_station_name', 'start_station_latitude',\n",
       "       'start_station_longitude', 'end_station_id', 'end_station_name',\n",
       "       'end_station_latitude', 'end_station_longitude', 'bikeid', 'usertype',\n",
       "       'birth_year', 'gender', 'month'],\n",
       "      dtype='object')"
      ]
     },
     "execution_count": 12,
     "metadata": {},
     "output_type": "execute_result"
    }
   ],
   "source": [
    "#test\n",
    "df_clean.columns"
   ]
  },
  {
   "cell_type": "code",
   "execution_count": 13,
   "metadata": {
    "scrolled": true
   },
   "outputs": [
    {
     "data": {
      "text/plain": [
       "array(['Subscriber', 'Customer'], dtype=object)"
      ]
     },
     "execution_count": 13,
     "metadata": {},
     "output_type": "execute_result"
    }
   ],
   "source": [
    "#check if there any other value for usertype\n",
    "df_clean.usertype.unique()"
   ]
  },
  {
   "cell_type": "code",
   "execution_count": 14,
   "metadata": {
    "scrolled": false
   },
   "outputs": [
    {
     "data": {
      "text/plain": [
       "1969    301771\n",
       "1990    169461\n",
       "1989    166087\n",
       "1991    161453\n",
       "1992    156060\n",
       "         ...  \n",
       "1927         3\n",
       "1895         2\n",
       "1915         2\n",
       "1910         1\n",
       "1926         1\n",
       "Name: birth_year, Length: 107, dtype: int64"
      ]
     },
     "execution_count": 14,
     "metadata": {},
     "output_type": "execute_result"
    }
   ],
   "source": [
    "df_clean.birth_year.value_counts()"
   ]
  },
  {
   "cell_type": "code",
   "execution_count": 15,
   "metadata": {
    "scrolled": false
   },
   "outputs": [
    {
     "data": {
      "text/plain": [
       "(4137191, 16)"
      ]
     },
     "execution_count": 15,
     "metadata": {},
     "output_type": "execute_result"
    }
   ],
   "source": [
    "df_clean.shape"
   ]
  },
  {
   "cell_type": "markdown",
   "metadata": {},
   "source": [
    "since the data is from 2020, I subtracted the 2020 from the birth year"
   ]
  },
  {
   "cell_type": "code",
   "execution_count": 16,
   "metadata": {},
   "outputs": [],
   "source": [
    "#create age column from birth data\n",
    "df_clean['age'] = 2020 - df_clean['birth_year']"
   ]
  },
  {
   "cell_type": "code",
   "execution_count": 17,
   "metadata": {
    "scrolled": false
   },
   "outputs": [
    {
     "data": {
      "text/plain": [
       "51     301771\n",
       "30     169461\n",
       "31     166087\n",
       "29     161453\n",
       "28     156060\n",
       "        ...  \n",
       "93          3\n",
       "125         2\n",
       "105         2\n",
       "110         1\n",
       "94          1\n",
       "Name: age, Length: 107, dtype: int64"
      ]
     },
     "execution_count": 17,
     "metadata": {},
     "output_type": "execute_result"
    }
   ],
   "source": [
    "#test\n",
    "df_clean['age'].value_counts()"
   ]
  },
  {
   "cell_type": "code",
   "execution_count": 18,
   "metadata": {},
   "outputs": [
    {
     "data": {
      "text/plain": [
       "2342"
      ]
     },
     "execution_count": 18,
     "metadata": {},
     "output_type": "execute_result"
    }
   ],
   "source": [
    "age_u = df_clean.age > 90\n",
    "age_u.sum()"
   ]
  },
  {
   "cell_type": "markdown",
   "metadata": {},
   "source": [
    "outliers in the people's ages so I limited the age for 90 as max\n"
   ]
  },
  {
   "cell_type": "code",
   "execution_count": 19,
   "metadata": {},
   "outputs": [
    {
     "data": {
      "text/html": [
       "<div>\n",
       "<style scoped>\n",
       "    .dataframe tbody tr th:only-of-type {\n",
       "        vertical-align: middle;\n",
       "    }\n",
       "\n",
       "    .dataframe tbody tr th {\n",
       "        vertical-align: top;\n",
       "    }\n",
       "\n",
       "    .dataframe thead th {\n",
       "        text-align: right;\n",
       "    }\n",
       "</style>\n",
       "<table border=\"1\" class=\"dataframe\">\n",
       "  <thead>\n",
       "    <tr style=\"text-align: right;\">\n",
       "      <th></th>\n",
       "      <th>tripduration</th>\n",
       "      <th>starttime</th>\n",
       "      <th>stoptime</th>\n",
       "      <th>start_station_id</th>\n",
       "      <th>start_station_name</th>\n",
       "      <th>start_station_latitude</th>\n",
       "      <th>start_station_longitude</th>\n",
       "      <th>end_station_id</th>\n",
       "      <th>end_station_name</th>\n",
       "      <th>end_station_latitude</th>\n",
       "      <th>end_station_longitude</th>\n",
       "      <th>bikeid</th>\n",
       "      <th>usertype</th>\n",
       "      <th>birth_year</th>\n",
       "      <th>gender</th>\n",
       "      <th>month</th>\n",
       "      <th>age</th>\n",
       "    </tr>\n",
       "  </thead>\n",
       "  <tbody>\n",
       "  </tbody>\n",
       "</table>\n",
       "</div>"
      ],
      "text/plain": [
       "Empty DataFrame\n",
       "Columns: [tripduration, starttime, stoptime, start_station_id, start_station_name, start_station_latitude, start_station_longitude, end_station_id, end_station_name, end_station_latitude, end_station_longitude, bikeid, usertype, birth_year, gender, month, age]\n",
       "Index: []"
      ]
     },
     "execution_count": 19,
     "metadata": {},
     "output_type": "execute_result"
    }
   ],
   "source": [
    "# delete all rows with age greater than 90\n",
    "index_age = df_clean[df_clean.age >90].index\n",
    "df_clean.drop(index_age , inplace=True)\n",
    "df_clean[df_clean.age >90]"
   ]
  },
  {
   "cell_type": "code",
   "execution_count": 20,
   "metadata": {
    "scrolled": false
   },
   "outputs": [
    {
     "data": {
      "text/plain": [
       "1    2871202\n",
       "2     991035\n",
       "0     272612\n",
       "Name: gender, dtype: int64"
      ]
     },
     "execution_count": 20,
     "metadata": {},
     "output_type": "execute_result"
    }
   ],
   "source": [
    "df_clean.gender.value_counts()"
   ]
  },
  {
   "cell_type": "code",
   "execution_count": 21,
   "metadata": {},
   "outputs": [],
   "source": [
    "#using lamda to change gender column to be more clear\n",
    "df_clean['gender'] = df_clean['gender'].apply(lambda x: 'male' if x==1 else ('female' if x==2 else 'unknown'))"
   ]
  },
  {
   "cell_type": "code",
   "execution_count": 22,
   "metadata": {
    "scrolled": false
   },
   "outputs": [
    {
     "data": {
      "text/plain": [
       "male       2871202\n",
       "female      991035\n",
       "unknown     272612\n",
       "Name: gender, dtype: int64"
      ]
     },
     "execution_count": 22,
     "metadata": {},
     "output_type": "execute_result"
    }
   ],
   "source": [
    "#test\n",
    "df_clean.gender.value_counts()"
   ]
  },
  {
   "cell_type": "markdown",
   "metadata": {},
   "source": [
    "fix the data type for columns to allow for using the calculation functions\n"
   ]
  },
  {
   "cell_type": "code",
   "execution_count": 23,
   "metadata": {},
   "outputs": [],
   "source": [
    "#fix the data type for columns to allow for using the calculation functions\n",
    "df_clean.start_station_id = df_clean.start_station_id.astype('str')\n",
    "df_clean.end_station_id = df_clean.end_station_id.astype('str')\n",
    "df_clean['starttime']  = pd.to_datetime(df_clean.starttime, format='%Y-%m-%d %H:%M:%S')\n",
    "df_clean['stoptime']  = pd.to_datetime(df_clean.stoptime, format='%Y-%m-%d %H:%M:%S')\n"
   ]
  },
  {
   "cell_type": "code",
   "execution_count": 24,
   "metadata": {
    "scrolled": true
   },
   "outputs": [
    {
     "name": "stdout",
     "output_type": "stream",
     "text": [
      "<class 'pandas.core.frame.DataFrame'>\n",
      "Int64Index: 4134849 entries, 0 to 4138644\n",
      "Data columns (total 17 columns):\n",
      " #   Column                   Dtype         \n",
      "---  ------                   -----         \n",
      " 0   tripduration             int64         \n",
      " 1   starttime                datetime64[ns]\n",
      " 2   stoptime                 datetime64[ns]\n",
      " 3   start_station_id         object        \n",
      " 4   start_station_name       object        \n",
      " 5   start_station_latitude   float64       \n",
      " 6   start_station_longitude  float64       \n",
      " 7   end_station_id           object        \n",
      " 8   end_station_name         object        \n",
      " 9   end_station_latitude     float64       \n",
      " 10  end_station_longitude    float64       \n",
      " 11  bikeid                   int64         \n",
      " 12  usertype                 object        \n",
      " 13  birth_year               int64         \n",
      " 14  gender                   object        \n",
      " 15  month                    object        \n",
      " 16  age                      int64         \n",
      "dtypes: datetime64[ns](2), float64(4), int64(4), object(7)\n",
      "memory usage: 567.8+ MB\n"
     ]
    }
   ],
   "source": [
    "#test\n",
    "df_clean.info()"
   ]
  },
  {
   "cell_type": "markdown",
   "metadata": {},
   "source": [
    "*change the tripduration to minutes*"
   ]
  },
  {
   "cell_type": "code",
   "execution_count": 25,
   "metadata": {},
   "outputs": [],
   "source": [
    "#divide the values by 60\n",
    "df_clean['tripduration'] = df_clean['tripduration']/60\n",
    "df_clean['tripduration'] = df_clean['tripduration'].round(1)"
   ]
  },
  {
   "cell_type": "code",
   "execution_count": 26,
   "metadata": {},
   "outputs": [],
   "source": [
    "# Creating daytime and weekday columns\n",
    "df_clean['weekday'] = df_clean['starttime'].dt.day_name()\n",
    "df_clean['daytime'] = df_clean['starttime'].dt.hour"
   ]
  },
  {
   "cell_type": "code",
   "execution_count": 27,
   "metadata": {},
   "outputs": [],
   "source": [
    "df_clean['weekday'] = pd.Categorical(df_clean['weekday'], categories=['Monday','Tuesday','Wednesday','Thursday','Friday','Saturday', 'Sunday'],ordered=True)"
   ]
  },
  {
   "cell_type": "code",
   "execution_count": 28,
   "metadata": {
    "scrolled": true
   },
   "outputs": [
    {
     "data": {
      "text/html": [
       "<div>\n",
       "<style scoped>\n",
       "    .dataframe tbody tr th:only-of-type {\n",
       "        vertical-align: middle;\n",
       "    }\n",
       "\n",
       "    .dataframe tbody tr th {\n",
       "        vertical-align: top;\n",
       "    }\n",
       "\n",
       "    .dataframe thead th {\n",
       "        text-align: right;\n",
       "    }\n",
       "</style>\n",
       "<table border=\"1\" class=\"dataframe\">\n",
       "  <thead>\n",
       "    <tr style=\"text-align: right;\">\n",
       "      <th></th>\n",
       "      <th>tripduration</th>\n",
       "      <th>starttime</th>\n",
       "      <th>stoptime</th>\n",
       "      <th>start_station_id</th>\n",
       "      <th>start_station_name</th>\n",
       "      <th>start_station_latitude</th>\n",
       "      <th>start_station_longitude</th>\n",
       "      <th>end_station_id</th>\n",
       "      <th>end_station_name</th>\n",
       "      <th>end_station_latitude</th>\n",
       "      <th>end_station_longitude</th>\n",
       "      <th>bikeid</th>\n",
       "      <th>usertype</th>\n",
       "      <th>birth_year</th>\n",
       "      <th>gender</th>\n",
       "      <th>month</th>\n",
       "      <th>age</th>\n",
       "      <th>weekday</th>\n",
       "      <th>daytime</th>\n",
       "    </tr>\n",
       "  </thead>\n",
       "  <tbody>\n",
       "    <tr>\n",
       "      <th>577201</th>\n",
       "      <td>6.9</td>\n",
       "      <td>2020-01-15 07:21:37.044</td>\n",
       "      <td>2020-01-15 07:28:30.920</td>\n",
       "      <td>477</td>\n",
       "      <td>W 41 St &amp; 8 Ave</td>\n",
       "      <td>40.756405</td>\n",
       "      <td>-73.990026</td>\n",
       "      <td>3233</td>\n",
       "      <td>E 48 St &amp; 5 Ave</td>\n",
       "      <td>40.757246</td>\n",
       "      <td>-73.978059</td>\n",
       "      <td>38761</td>\n",
       "      <td>Subscriber</td>\n",
       "      <td>1990</td>\n",
       "      <td>male</td>\n",
       "      <td>Jan</td>\n",
       "      <td>30</td>\n",
       "      <td>Wednesday</td>\n",
       "      <td>7</td>\n",
       "    </tr>\n",
       "    <tr>\n",
       "      <th>3247159</th>\n",
       "      <td>10.4</td>\n",
       "      <td>2020-03-20 12:58:38.979</td>\n",
       "      <td>2020-03-20 13:09:04.559</td>\n",
       "      <td>317</td>\n",
       "      <td>E 6 St &amp; Avenue B</td>\n",
       "      <td>40.724537</td>\n",
       "      <td>-73.981854</td>\n",
       "      <td>3687</td>\n",
       "      <td>E 33 St &amp; 1 Ave</td>\n",
       "      <td>40.743227</td>\n",
       "      <td>-73.974498</td>\n",
       "      <td>41854</td>\n",
       "      <td>Subscriber</td>\n",
       "      <td>1989</td>\n",
       "      <td>male</td>\n",
       "      <td>Mar</td>\n",
       "      <td>31</td>\n",
       "      <td>Friday</td>\n",
       "      <td>12</td>\n",
       "    </tr>\n",
       "    <tr>\n",
       "      <th>597488</th>\n",
       "      <td>7.1</td>\n",
       "      <td>2020-01-15 13:43:32.358</td>\n",
       "      <td>2020-01-15 13:50:39.087</td>\n",
       "      <td>3724</td>\n",
       "      <td>7 Ave &amp; Central Park South</td>\n",
       "      <td>40.766741</td>\n",
       "      <td>-73.979069</td>\n",
       "      <td>520</td>\n",
       "      <td>W 52 St &amp; 5 Ave</td>\n",
       "      <td>40.759923</td>\n",
       "      <td>-73.976485</td>\n",
       "      <td>30580</td>\n",
       "      <td>Subscriber</td>\n",
       "      <td>1979</td>\n",
       "      <td>male</td>\n",
       "      <td>Jan</td>\n",
       "      <td>41</td>\n",
       "      <td>Wednesday</td>\n",
       "      <td>13</td>\n",
       "    </tr>\n",
       "    <tr>\n",
       "      <th>3221500</th>\n",
       "      <td>22.9</td>\n",
       "      <td>2020-03-19 11:39:35.978</td>\n",
       "      <td>2020-03-19 12:02:31.747</td>\n",
       "      <td>3056</td>\n",
       "      <td>Kosciuszko St &amp; Nostrand Ave</td>\n",
       "      <td>40.690725</td>\n",
       "      <td>-73.951335</td>\n",
       "      <td>3585</td>\n",
       "      <td>Union St &amp; Bedford Ave</td>\n",
       "      <td>40.669178</td>\n",
       "      <td>-73.955416</td>\n",
       "      <td>37548</td>\n",
       "      <td>Subscriber</td>\n",
       "      <td>1995</td>\n",
       "      <td>female</td>\n",
       "      <td>Mar</td>\n",
       "      <td>25</td>\n",
       "      <td>Thursday</td>\n",
       "      <td>11</td>\n",
       "    </tr>\n",
       "    <tr>\n",
       "      <th>4089404</th>\n",
       "      <td>5.7</td>\n",
       "      <td>2020-04-28 17:36:06.279</td>\n",
       "      <td>2020-04-28 17:41:46.598</td>\n",
       "      <td>411</td>\n",
       "      <td>E 6 St &amp; Avenue D</td>\n",
       "      <td>40.722281</td>\n",
       "      <td>-73.976687</td>\n",
       "      <td>432</td>\n",
       "      <td>E 7 St &amp; Avenue A</td>\n",
       "      <td>40.726218</td>\n",
       "      <td>-73.983799</td>\n",
       "      <td>40578</td>\n",
       "      <td>Subscriber</td>\n",
       "      <td>1989</td>\n",
       "      <td>female</td>\n",
       "      <td>Apr</td>\n",
       "      <td>31</td>\n",
       "      <td>Tuesday</td>\n",
       "      <td>17</td>\n",
       "    </tr>\n",
       "    <tr>\n",
       "      <th>2352817</th>\n",
       "      <td>5.6</td>\n",
       "      <td>2020-02-28 19:30:46.172</td>\n",
       "      <td>2020-02-28 19:36:21.751</td>\n",
       "      <td>3664</td>\n",
       "      <td>North Moore St &amp; Greenwich St</td>\n",
       "      <td>40.720195</td>\n",
       "      <td>-74.010301</td>\n",
       "      <td>3783</td>\n",
       "      <td>Cliff St &amp; Fulton St</td>\n",
       "      <td>40.708380</td>\n",
       "      <td>-74.004950</td>\n",
       "      <td>28707</td>\n",
       "      <td>Subscriber</td>\n",
       "      <td>1996</td>\n",
       "      <td>male</td>\n",
       "      <td>Feb</td>\n",
       "      <td>24</td>\n",
       "      <td>Friday</td>\n",
       "      <td>19</td>\n",
       "    </tr>\n",
       "    <tr>\n",
       "      <th>3888690</th>\n",
       "      <td>4.7</td>\n",
       "      <td>2020-04-20 13:10:35.142</td>\n",
       "      <td>2020-04-20 13:15:15.707</td>\n",
       "      <td>515</td>\n",
       "      <td>W 43 St &amp; 10 Ave</td>\n",
       "      <td>40.760094</td>\n",
       "      <td>-73.994618</td>\n",
       "      <td>490</td>\n",
       "      <td>8 Ave &amp; W 33 St</td>\n",
       "      <td>40.751551</td>\n",
       "      <td>-73.993934</td>\n",
       "      <td>27520</td>\n",
       "      <td>Subscriber</td>\n",
       "      <td>1984</td>\n",
       "      <td>male</td>\n",
       "      <td>Apr</td>\n",
       "      <td>36</td>\n",
       "      <td>Monday</td>\n",
       "      <td>13</td>\n",
       "    </tr>\n",
       "    <tr>\n",
       "      <th>381769</th>\n",
       "      <td>4.3</td>\n",
       "      <td>2020-01-11 11:19:17.261</td>\n",
       "      <td>2020-01-11 11:23:34.555</td>\n",
       "      <td>3328</td>\n",
       "      <td>W 100 St &amp; Manhattan Ave</td>\n",
       "      <td>40.795000</td>\n",
       "      <td>-73.964500</td>\n",
       "      <td>3553</td>\n",
       "      <td>Frederick Douglass Blvd &amp; W 112 St</td>\n",
       "      <td>40.801694</td>\n",
       "      <td>-73.957145</td>\n",
       "      <td>15624</td>\n",
       "      <td>Subscriber</td>\n",
       "      <td>1991</td>\n",
       "      <td>male</td>\n",
       "      <td>Jan</td>\n",
       "      <td>29</td>\n",
       "      <td>Saturday</td>\n",
       "      <td>11</td>\n",
       "    </tr>\n",
       "    <tr>\n",
       "      <th>1055461</th>\n",
       "      <td>4.7</td>\n",
       "      <td>2020-01-28 07:30:13.622</td>\n",
       "      <td>2020-01-28 07:34:57.740</td>\n",
       "      <td>473</td>\n",
       "      <td>Rivington St &amp; Chrystie St</td>\n",
       "      <td>40.721101</td>\n",
       "      <td>-73.991925</td>\n",
       "      <td>410</td>\n",
       "      <td>Suffolk St &amp; Stanton St</td>\n",
       "      <td>40.720664</td>\n",
       "      <td>-73.985180</td>\n",
       "      <td>41206</td>\n",
       "      <td>Subscriber</td>\n",
       "      <td>1956</td>\n",
       "      <td>male</td>\n",
       "      <td>Jan</td>\n",
       "      <td>64</td>\n",
       "      <td>Tuesday</td>\n",
       "      <td>7</td>\n",
       "    </tr>\n",
       "    <tr>\n",
       "      <th>3695557</th>\n",
       "      <td>10.1</td>\n",
       "      <td>2020-04-12 09:12:30.381</td>\n",
       "      <td>2020-04-12 09:22:35.277</td>\n",
       "      <td>3167</td>\n",
       "      <td>Amsterdam Ave &amp; W 73 St</td>\n",
       "      <td>40.779668</td>\n",
       "      <td>-73.980930</td>\n",
       "      <td>3141</td>\n",
       "      <td>1 Ave &amp; E 68 St</td>\n",
       "      <td>40.765005</td>\n",
       "      <td>-73.958185</td>\n",
       "      <td>43563</td>\n",
       "      <td>Subscriber</td>\n",
       "      <td>1991</td>\n",
       "      <td>male</td>\n",
       "      <td>Apr</td>\n",
       "      <td>29</td>\n",
       "      <td>Sunday</td>\n",
       "      <td>9</td>\n",
       "    </tr>\n",
       "  </tbody>\n",
       "</table>\n",
       "</div>"
      ],
      "text/plain": [
       "         tripduration               starttime                stoptime  \\\n",
       "577201            6.9 2020-01-15 07:21:37.044 2020-01-15 07:28:30.920   \n",
       "3247159          10.4 2020-03-20 12:58:38.979 2020-03-20 13:09:04.559   \n",
       "597488            7.1 2020-01-15 13:43:32.358 2020-01-15 13:50:39.087   \n",
       "3221500          22.9 2020-03-19 11:39:35.978 2020-03-19 12:02:31.747   \n",
       "4089404           5.7 2020-04-28 17:36:06.279 2020-04-28 17:41:46.598   \n",
       "2352817           5.6 2020-02-28 19:30:46.172 2020-02-28 19:36:21.751   \n",
       "3888690           4.7 2020-04-20 13:10:35.142 2020-04-20 13:15:15.707   \n",
       "381769            4.3 2020-01-11 11:19:17.261 2020-01-11 11:23:34.555   \n",
       "1055461           4.7 2020-01-28 07:30:13.622 2020-01-28 07:34:57.740   \n",
       "3695557          10.1 2020-04-12 09:12:30.381 2020-04-12 09:22:35.277   \n",
       "\n",
       "        start_station_id             start_station_name  \\\n",
       "577201               477                W 41 St & 8 Ave   \n",
       "3247159              317              E 6 St & Avenue B   \n",
       "597488              3724     7 Ave & Central Park South   \n",
       "3221500             3056   Kosciuszko St & Nostrand Ave   \n",
       "4089404              411              E 6 St & Avenue D   \n",
       "2352817             3664  North Moore St & Greenwich St   \n",
       "3888690              515               W 43 St & 10 Ave   \n",
       "381769              3328       W 100 St & Manhattan Ave   \n",
       "1055461              473     Rivington St & Chrystie St   \n",
       "3695557             3167        Amsterdam Ave & W 73 St   \n",
       "\n",
       "         start_station_latitude  start_station_longitude end_station_id  \\\n",
       "577201                40.756405               -73.990026           3233   \n",
       "3247159               40.724537               -73.981854           3687   \n",
       "597488                40.766741               -73.979069            520   \n",
       "3221500               40.690725               -73.951335           3585   \n",
       "4089404               40.722281               -73.976687            432   \n",
       "2352817               40.720195               -74.010301           3783   \n",
       "3888690               40.760094               -73.994618            490   \n",
       "381769                40.795000               -73.964500           3553   \n",
       "1055461               40.721101               -73.991925            410   \n",
       "3695557               40.779668               -73.980930           3141   \n",
       "\n",
       "                           end_station_name  end_station_latitude  \\\n",
       "577201                      E 48 St & 5 Ave             40.757246   \n",
       "3247159                     E 33 St & 1 Ave             40.743227   \n",
       "597488                      W 52 St & 5 Ave             40.759923   \n",
       "3221500              Union St & Bedford Ave             40.669178   \n",
       "4089404                   E 7 St & Avenue A             40.726218   \n",
       "2352817                Cliff St & Fulton St             40.708380   \n",
       "3888690                     8 Ave & W 33 St             40.751551   \n",
       "381769   Frederick Douglass Blvd & W 112 St             40.801694   \n",
       "1055461             Suffolk St & Stanton St             40.720664   \n",
       "3695557                     1 Ave & E 68 St             40.765005   \n",
       "\n",
       "         end_station_longitude  bikeid    usertype  birth_year  gender month  \\\n",
       "577201              -73.978059   38761  Subscriber        1990    male   Jan   \n",
       "3247159             -73.974498   41854  Subscriber        1989    male   Mar   \n",
       "597488              -73.976485   30580  Subscriber        1979    male   Jan   \n",
       "3221500             -73.955416   37548  Subscriber        1995  female   Mar   \n",
       "4089404             -73.983799   40578  Subscriber        1989  female   Apr   \n",
       "2352817             -74.004950   28707  Subscriber        1996    male   Feb   \n",
       "3888690             -73.993934   27520  Subscriber        1984    male   Apr   \n",
       "381769              -73.957145   15624  Subscriber        1991    male   Jan   \n",
       "1055461             -73.985180   41206  Subscriber        1956    male   Jan   \n",
       "3695557             -73.958185   43563  Subscriber        1991    male   Apr   \n",
       "\n",
       "         age    weekday  daytime  \n",
       "577201    30  Wednesday        7  \n",
       "3247159   31     Friday       12  \n",
       "597488    41  Wednesday       13  \n",
       "3221500   25   Thursday       11  \n",
       "4089404   31    Tuesday       17  \n",
       "2352817   24     Friday       19  \n",
       "3888690   36     Monday       13  \n",
       "381769    29   Saturday       11  \n",
       "1055461   64    Tuesday        7  \n",
       "3695557   29     Sunday        9  "
      ]
     },
     "execution_count": 28,
     "metadata": {},
     "output_type": "execute_result"
    }
   ],
   "source": [
    "df_clean.sample(10)"
   ]
  },
  {
   "cell_type": "code",
   "execution_count": 29,
   "metadata": {},
   "outputs": [
    {
     "data": {
      "text/plain": [
       "14.784670613122387"
      ]
     },
     "execution_count": 29,
     "metadata": {},
     "output_type": "execute_result"
    }
   ],
   "source": [
    "df_clean.tripduration.mean()"
   ]
  },
  {
   "cell_type": "code",
   "execution_count": 30,
   "metadata": {
    "scrolled": true
   },
   "outputs": [
    {
     "data": {
      "text/plain": [
       "age  usertype  \n",
       "16   Subscriber       28\n",
       "17   Customer        981\n",
       "     Subscriber     2923\n",
       "18   Customer       1953\n",
       "     Subscriber     5053\n",
       "                   ...  \n",
       "63   Subscriber    30508\n",
       "64   Customer        223\n",
       "     Subscriber    25375\n",
       "65   Customer        273\n",
       "     Subscriber    22736\n",
       "Name: usertype, Length: 99, dtype: int64"
      ]
     },
     "execution_count": 30,
     "metadata": {},
     "output_type": "execute_result"
    }
   ],
   "source": [
    "gkk = df_clean.groupby(['age','usertype'])['usertype'].count()\n",
    "\n",
    "gkk[1:100]"
   ]
  },
  {
   "cell_type": "markdown",
   "metadata": {},
   "source": [
    "####  in the birth year column there is an outlier where the birth year is 1969, from the exploration it is shown that there are more than 200000 customers whose ages are 51, this indicates that when a new customer takes a ride the default date of birth is 1969.\n",
    "> so we can't drop all those whose ages are 51 because it will skew the final result"
   ]
  },
  {
   "cell_type": "markdown",
   "metadata": {},
   "source": [
    "### What is the structure of your dataset?\n",
    "\n",
    "> the dataset is a compilation of four different datasets that represent 4 months in a row from January to April in the year 2022, there are more than 4 million trips in the data set with 19 features after doing some features engineering.\n",
    "the dataset contains both qualitative and quantitative data.\n",
    "\n",
    "### What is/are the main feature(s) of interest in your dataset?\n",
    "\n",
    "> the most interesting feature in my dataset is the overall number of subscribers and customers and the differentiation between them and how does affect the behavior and the ride that are taken per weekday.\n",
    "\n",
    "### What features in the dataset do you think will help support your investigation into your feature(s) of interest?\n",
    "\n",
    "> The start time and weekday will have the greatest impact on the data, since they can be used to detect rush hour patterns"
   ]
  },
  {
   "cell_type": "markdown",
   "metadata": {},
   "source": [
    "## Univariate Exploration"
   ]
  },
  {
   "cell_type": "code",
   "execution_count": 39,
   "metadata": {},
   "outputs": [],
   "source": [
    "def sb_plot(data,xax,r,title):\n",
    "    base_color = sb.color_palette()[0]\n",
    "    sb.countplot(data=data, x=xax, color=base_color);\n",
    "    plt.xticks(rotation=r);\n",
    "    plt.title(title);"
   ]
  },
  {
   "cell_type": "code",
   "execution_count": 40,
   "metadata": {},
   "outputs": [
    {
     "data": {
      "image/png": "[encoded data removed]",
      "text/plain": [
       "<Figure size 432x288 with 1 Axes>"
      ]
     },
     "metadata": {
      "needs_background": "light"
     },
     "output_type": "display_data"
    }
   ],
   "source": [
    "sb_plot(df_clean,'weekday',45,'Number of Trip each day of the week')"
   ]
  },
  {
   "cell_type": "markdown",
   "metadata": {},
   "source": [
    "> There are more trips on Wednesday than any other day of the week according to the plot"
   ]
  },
  {
   "cell_type": "code",
   "execution_count": 41,
   "metadata": {},
   "outputs": [
    {
     "data": {
      "image/png": "[encoded data removed]",
      "text/plain": [
       "<Figure size 432x288 with 1 Axes>"
      ]
     },
     "metadata": {
      "needs_background": "light"
     },
     "output_type": "display_data"
    }
   ],
   "source": [
    "sb_plot(df_clean,'gender',0,'distribution of gender')"
   ]
  },
  {
   "cell_type": "markdown",
   "metadata": {},
   "source": [
    "> the male gender has the most trip over female"
   ]
  },
  {
   "cell_type": "code",
   "execution_count": 68,
   "metadata": {
    "scrolled": true
   },
   "outputs": [
    {
     "data": {
      "image/png": "[encoded data removed]",
      "text/plain": [
       "<Figure size 432x288 with 1 Axes>"
      ]
     },
     "metadata": {
      "needs_background": "light"
     },
     "output_type": "display_data"
    }
   ],
   "source": [
    "bins = np.arange(20, df_clean['age'].max()+5, 5)\n",
    "plt.hist(df_clean.query(\"age != 51\")['age'] , bins = bins);\n",
    "plt.title('age distribution');"
   ]
  },
  {
   "cell_type": "code",
   "execution_count": 58,
   "metadata": {},
   "outputs": [
    {
     "data": {
      "image/png": "[encoded data removed]",
      "text/plain": [
       "<Figure size 1440x360 with 2 Axes>"
      ]
     },
     "metadata": {
      "needs_background": "light"
     },
     "output_type": "display_data"
    }
   ],
   "source": [
    "# set a larger figure size for subplots\n",
    "plt.figure(figsize = [20, 5]) \n",
    "\n",
    "# histogram on left\n",
    "# 1 row, 2 cols, subplot 1\n",
    "plt.subplot(1, 2, 1) \n",
    "bins = np.arange(0, df_clean['age'].max()+4, 4)\n",
    "plt.hist(data = df_clean.query(\"age != 51\"), x = 'age', bins = bins);\n",
    "plt.title('age distribution');\n",
    "# histogram on right\n",
    "plt.subplot(1, 2, 2) # 1 row, 2 cols, subplot 2\n",
    "bins = np.arange(0, df_clean['age'].max()+1/4, 1/4)\n",
    "plt.hist(data = df_clean.query(\"age != 51\"), x = 'age', bins = bins);\n",
    "plt.title('age distribution');"
   ]
  },
  {
   "cell_type": "code",
   "execution_count": 33,
   "metadata": {
    "scrolled": false
   },
   "outputs": [
    {
     "data": {
      "image/png": "[encoded data removed]",
      "text/plain": [
       "<Figure size 720x432 with 1 Axes>"
      ]
     },
     "metadata": {
      "needs_background": "light"
     },
     "output_type": "display_data"
    }
   ],
   "source": [
    "month_order = df_clean['month'].value_counts().index\n",
    "plt.figure(figsize=[10,6])\n",
    "sb.countplot(data = df_clean,x='month',order = month_order ,color =base_color)\n",
    "plt.title('Number of Trip each month');"
   ]
  },
  {
   "cell_type": "code",
   "execution_count": 56,
   "metadata": {
    "scrolled": true
   },
   "outputs": [
    {
     "data": {
      "image/png": "[encoded data removed]",
      "text/plain": [
       "<Figure size 432x288 with 1 Axes>"
      ]
     },
     "metadata": {
      "needs_background": "light"
     },
     "output_type": "display_data"
    }
   ],
   "source": [
    "# ride frequency per usertype\n",
    "ax = sb.countplot(data = df_clean, x = 'usertype',  color=sb.color_palette()[0])\n",
    "\n",
    "total = len(df_clean)\n",
    "for p in ax.patches:\n",
    "    peropotion = '{:.2f}%'.format(100 * p.get_height()/total)\n",
    "    x = p.get_x() + p.get_width()/2\n",
    "    y = p.get_height()+.05\n",
    "    ax.annotate(peropotion, (x, y),ha='center')\n",
    "plt.title('subscriber and customer in proportion');\n",
    "plt.show();\n"
   ]
  },
  {
   "cell_type": "markdown",
   "metadata": {},
   "source": [
    "> more than 87% of trips were taken by subscriber "
   ]
  },
  {
   "cell_type": "markdown",
   "metadata": {},
   "source": [
    "### Discuss the distribution(s) of your variable(s) of interest. Were there any unusual points? Did you need to perform any transformations?\n",
    "> people between the age of 30 to 35 has more trips than other age in the disruption,I only need to adjust the bin in the subplot.\n",
    "\n",
    "\n",
    "> the male had more trips than other \n",
    "\n",
    "### Of the features you investigated, were there any unusual distributions? Did you perform any operations on the data to tidy, adjust, or change the form of the data? If so, why did you do this?\n",
    "\n",
    "> in the birth year column there is an outlier where the birth year is 1969, from the exploration it is shown that there are more than 200000 customers whose ages are 51, this indicates that when a new customer takes a ride the default date of birth is 1969.\n",
    "> so I can't drop all those whose ages are 51 because it will skew the final result , I used query to extract ages ar 51"
   ]
  },
  {
   "cell_type": "markdown",
   "metadata": {},
   "source": [
    "## Bivariate Exploration"
   ]
  },
  {
   "cell_type": "code",
   "execution_count": 59,
   "metadata": {
    "scrolled": true
   },
   "outputs": [
    {
     "data": {
      "image/png": "[encoded data removed]",
      "text/plain": [
       "<Figure size 432x288 with 1 Axes>"
      ]
     },
     "metadata": {
      "needs_background": "light"
     },
     "output_type": "display_data"
    }
   ],
   "source": [
    "plt.scatter(data = df_clean.query(\"age != 51\"), x = 'age', y = 'tripduration',alpha=1/20);\n",
    "plt.xlabel('age')\n",
    "plt.ylabel('tripduration')\n",
    "plt.title('age distribution vs duration time');"
   ]
  },
  {
   "cell_type": "code",
   "execution_count": 60,
   "metadata": {
    "scrolled": true
   },
   "outputs": [
    {
     "data": {
      "image/png": "[encoded data removed]",
      "text/plain": [
       "<Figure size 432x288 with 1 Axes>"
      ]
     },
     "metadata": {
      "needs_background": "light"
     },
     "output_type": "display_data"
    }
   ],
   "source": [
    "sb.countplot(data = df_clean, x = 'weekday', hue = 'gender');\n",
    "plt.xticks(rotation=45);\n",
    "plt.title('count of trips in weekday for each gender');"
   ]
  },
  {
   "cell_type": "code",
   "execution_count": 61,
   "metadata": {
    "scrolled": false
   },
   "outputs": [
    {
     "data": {
      "image/png": "[encoded data removed]",
      "text/plain": [
       "<Figure size 432x288 with 1 Axes>"
      ]
     },
     "metadata": {
      "needs_background": "light"
     },
     "output_type": "display_data"
    }
   ],
   "source": [
    "sb.countplot(data = df_clean, x = 'weekday', hue = 'usertype');\n",
    "plt.xticks(rotation=45);\n",
    "plt.title('count of trips in weekday acording to user type');"
   ]
  },
  {
   "cell_type": "markdown",
   "metadata": {},
   "source": [
    "> From the previous chart, it can be seen that there is an increase in the number of trips for customers on holidays, which are Sunday and Monday, but on the other hand; the number of subscriber trips are decreasing on holiday"
   ]
  },
  {
   "cell_type": "code",
   "execution_count": 45,
   "metadata": {},
   "outputs": [],
   "source": [
    "# Use group_by() and size() \n",
    "ct_counts = df_clean.groupby(['weekday', 'usertype']).size()"
   ]
  },
  {
   "cell_type": "code",
   "execution_count": 46,
   "metadata": {},
   "outputs": [],
   "source": [
    "ct_counts = ct_counts.reset_index(name='count')"
   ]
  },
  {
   "cell_type": "code",
   "execution_count": 47,
   "metadata": {},
   "outputs": [],
   "source": [
    "# Use DataFrame.pivot() to rearrange the data, to have weekday on rows\n",
    "ct_counts = ct_counts.pivot(index = 'weekday', columns = 'usertype', values = 'count')"
   ]
  },
  {
   "cell_type": "code",
   "execution_count": 48,
   "metadata": {
    "scrolled": false
   },
   "outputs": [
    {
     "data": {
      "image/png": "[encoded data removed]",
      "text/plain": [
       "<Figure size 432x288 with 2 Axes>"
      ]
     },
     "metadata": {
      "needs_background": "light"
     },
     "output_type": "display_data"
    }
   ],
   "source": [
    "sb.heatmap(ct_counts, annot = True, fmt = 'd' ,cmap='viridis_r');\n",
    "plt.title('user type distribution depending on weekday and counts for trips');"
   ]
  },
  {
   "cell_type": "code",
   "execution_count": 42,
   "metadata": {
    "scrolled": true
   },
   "outputs": [
    {
     "data": {
      "image/png": "[encoded data removed]",
      "text/plain": [
       "<Figure size 648x648 with 7 Axes>"
      ]
     },
     "metadata": {
      "needs_background": "light"
     },
     "output_type": "display_data"
    }
   ],
   "source": [
    "bin_edges = np.arange(12, 58+2, 2)\n",
    "\n",
    "# Try experimenting with dynamic bin edges\n",
    "# bin_edges = np.arange(-3, fuel_econ['comb'].max()+1/3, 1/3)\n",
    "\n",
    "g = sb.FacetGrid(data = df_clean, col = 'weekday', col_wrap=3, sharey=False)\n",
    "g.map(plt.hist, 'age', bins = bin_edges);\n",
    "plt.title('user type distribution depending on weekday');"
   ]
  },
  {
   "cell_type": "markdown",
   "metadata": {},
   "source": [
    "### Talk about some of the relationships you observed in this part of the investigation. How did the feature(s) of interest vary with other features in the dataset?\n",
    "\n",
    "> From the previous plots, it can be seen that there is an increase in the number of trips for customers on holidays, which are Sunday and Monday, but on the other hand; the number of subscriber trips are decreasing on holiday\n",
    "### Did you observe any interesting relationships between the other features (not the main feature(s) of interest)?\n",
    "\n",
    "> those whose ages between 25 and 30 tend to have more time in the duration of the trip"
   ]
  },
  {
   "cell_type": "markdown",
   "metadata": {},
   "source": [
    "## Multivariate Exploration"
   ]
  },
  {
   "cell_type": "code",
   "execution_count": 63,
   "metadata": {
    "scrolled": true
   },
   "outputs": [
    {
     "data": {
      "image/png": "[encoded data removed]",
      "text/plain": [
       "<Figure size 432x288 with 1 Axes>"
      ]
     },
     "metadata": {
      "needs_background": "light"
     },
     "output_type": "display_data"
    }
   ],
   "source": [
    "ax = sb.barplot(data = df_clean, x = 'usertype', y = 'tripduration', hue = 'gender');\n",
    "ax.legend(loc = 8, ncol = 3, framealpha = 1, title = 'gender');\n",
    "plt.title('user type distribution depending on their gender and tripduration ');"
   ]
  },
  {
   "cell_type": "markdown",
   "metadata": {},
   "source": [
    "> tripduration for the female are more than male "
   ]
  },
  {
   "cell_type": "code",
   "execution_count": 64,
   "metadata": {
    "scrolled": false
   },
   "outputs": [
    {
     "data": {
      "image/png": "[encoded data removed]",
      "text/plain": [
       "<Figure size 432x288 with 2 Axes>"
      ]
     },
     "metadata": {
      "needs_background": "light"
     },
     "output_type": "display_data"
    }
   ],
   "source": [
    "cat_means = df_clean.groupby(['usertype', 'weekday']).mean()['tripduration']\n",
    "cat_means = cat_means.reset_index(name = 'num_var2_avg')\n",
    "cat_means = cat_means.pivot(index = 'weekday', columns = 'usertype',\n",
    "                            values = 'num_var2_avg')\n",
    "sb.heatmap(cat_means, annot = True, fmt = '.3f',\n",
    "           cbar_kws = {'label' : 'mean(tripduration)'})\n",
    "plt.title('user type distribution depending on weekday and avg of tripduration ');"
   ]
  },
  {
   "cell_type": "code",
   "execution_count": 65,
   "metadata": {},
   "outputs": [
    {
     "data": {
      "image/png": "[encoded data removed]",
      "text/plain": [
       "<Figure size 432x288 with 2 Axes>"
      ]
     },
     "metadata": {
      "needs_background": "light"
     },
     "output_type": "display_data"
    }
   ],
   "source": [
    "cat_means = df_clean.groupby(['usertype', 'gender']).mean()['tripduration']\n",
    "cat_means = cat_means.reset_index(name = 'num_var2_avg')\n",
    "cat_means = cat_means.pivot(index = 'gender', columns = 'usertype',\n",
    "                            values = 'num_var2_avg')\n",
    "sb.heatmap(cat_means, annot = True, fmt = '.3f',\n",
    "           cbar_kws = {'label' : 'mean(tripduration)'})\n",
    "plt.title('user type distribution depending on their gender and tripduration ');"
   ]
  },
  {
   "cell_type": "markdown",
   "metadata": {},
   "source": [
    "### Talk about some of the relationships you observed in this part of the investigation. Were there features that strengthened each other in terms of looking at your feature(s) of interest?\n",
    "\n",
    "> It is evident that female customers had longer trips compared to male customers in the last plot, which shows there are clear differences between them.\n",
    "> customers tend to have more trip duration than subscriber\n",
    "\n",
    "\n",
    "> tripduration for the female are more than male\n",
    "\n",
    "### Were there any interesting or surprising interactions between features?\n",
    "\n",
    "> The average trip duration for subscribers is shorter by half than the average trip duration for users during normal weekdays. On holidays, the average trip duration for subscribers is double than the average trip duration for users."
   ]
  },
  {
   "cell_type": "markdown",
   "metadata": {},
   "source": [
    "## Conclusions\n",
    "- There are more trips on Wednesday than any other day of the week according to the plot\n",
    "- the male gender has the most trip over female\n",
    "- more than 87% of trips were taken by subscriber\n",
    "- users between the age of 30 to 35 has more trips than other age in the disruption,I only need to adjust the bin in the subplot.\n",
    "- there is an increase in the number of trips for customers on holidays, which are Sunday and Monday, but on the other hand; the number of subscriber trips are decreasing on holiday\n",
    "- those whose ages between 25 and 30 tend to have more time in the duration of the trip\n",
    "- tripduration for the female are more than male\n",
    "- The average trip duration for subscribers is shorter by half than the average trip duration for users during normal weekdays. On holidays, the average trip duration for subscribers is double than the average trip duration for users.\n",
    "- It is evident that female customers had longer trips compared to male customers in the last plot, which shows there are clear differences between them. customers tend to have more trip duration than subscriber\n",
    " \n",
    "\n",
    "## limitation\n",
    "- in the birth year column there is an outlier where the birth year is 1969, from the exploration it is shown that there are more than 200000 customers whose ages are 51, this indicates that when a new customer takes a ride the default date of birth is 1969. so I can't drop all those whose ages are 51 because it will skew the final result , I used query to extract ages ar 51.\n"
   ]
  },
  {
   "cell_type": "code",
   "execution_count": 42,
   "metadata": {},
   "outputs": [],
   "source": [
    "df_clean.to_csv('citibike_Jan_to_Apr2020_clean.csv',index=False)"
   ]
  }
 ],
 "metadata": {
  "kernelspec": {
   "display_name": "Python 3 (ipykernel)",
   "language": "python",
   "name": "python3"
  },
  "language_info": {
   "codemirror_mode": {
    "name": "ipython",
    "version": 3
   },
   "file_extension": ".py",
   "mimetype": "text/x-python",
   "name": "python",
   "nbconvert_exporter": "python",
   "pygments_lexer": "ipython3",
   "version": "3.9.12"
  }
 },
 "nbformat": 4,
 "nbformat_minor": 2
}
